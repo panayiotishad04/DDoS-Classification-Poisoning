{
 "cells": [
  {
   "cell_type": "code",
   "execution_count": 61,
   "metadata": {
    "collapsed": true
   },
   "outputs": [],
   "source": [
    "from scapy.sendrecv import sniff\n",
    "import pandas as pd\n",
    "import numpy as np\n",
    "import time\n",
    "from scapy.all import IP, TCP, UDP, send\n",
    "\n",
    "# Function to read the CSV and send packets\n",
    "def send_packets_from_csv(csv_file):\n",
    "    # Read the CSV file\n",
    "    df = pd.read_csv(csv_file)\n",
    "\n",
    "\n",
    "    count = 0\n",
    "    # Iterate over each row in the DataFrame\n",
    "    for _, row in df.iterrows():\n",
    "\n",
    "        orig_ip = row['id.orig_addr']\n",
    "        orig_port = row['id.orig_port']\n",
    "        duration = row['duration_interval']\n",
    "        pkt_count = row['orig_pkts_count']\n",
    "        byte_count = row['orig_ip_bytes_count']\n",
    "\n",
    "        # Add missing variables\n",
    "        destination_ip = '172.20.10.2'\n",
    "        # orig_ip = destination_ip\n",
    "        protocol = np.random.choice(['UDP'])\n",
    "        ttl = np.random.choice([64, 128, 255])\n",
    "        flags = 'S' if protocol == 'TCP' else 'NONE'\n",
    "        avg_payload_size = byte_count // pkt_count\n",
    "\n",
    "        print(f\"Sending {pkt_count} {protocol} packets from {orig_ip}:{orig_port} to {destination_ip} over {duration} seconds and length {byte_count}\")\n",
    "\n",
    "        # Calculate the interval between packets\n",
    "        packet_interval = duration / pkt_count\n",
    "\n",
    "        # Generate packets based on the packet count\n",
    "        for i in range(pkt_count):\n",
    "            # Construct the packet\n",
    "            if protocol == 'TCP':\n",
    "                packet = IP(src=orig_ip, dst=destination_ip) / TCP(sport=orig_port, dport=9999, flags=flags) / (\"X\" * avg_payload_size)\n",
    "            elif protocol == 'UDP':\n",
    "                packet = IP(src=orig_ip, dst=destination_ip) / UDP(sport=orig_port, dport=9999) / (\"P\" * avg_payload_size)\n",
    "\n",
    "            # Set TTL value\n",
    "            packet[IP].ttl = ttl\n",
    "\n",
    "            # Send the packet\n",
    "            send(packet)\n",
    "\n",
    "            # Wait for the next packet based on the calculated interval\n",
    "            if i < pkt_count - 1:\n",
    "                time.sleep(packet_interval)\n",
    "\n",
    "        if count == 3:\n",
    "            break\n",
    "        count += 1\n",
    "    print('End')\n",
    "\n",
    "\n",
    "flows_csv = \"denormalized_flows.csv\"\n",
    "send_packets_from_csv(flows_csv)"
   ]
  }
 ],
 "metadata": {
  "kernelspec": {
   "display_name": "Python 3",
   "language": "python",
   "name": "python3"
  },
  "language_info": {
   "codemirror_mode": {
    "name": "ipython",
    "version": 2
   },
   "file_extension": ".py",
   "mimetype": "text/x-python",
   "name": "python",
   "nbconvert_exporter": "python",
   "pygments_lexer": "ipython2",
   "version": "2.7.6"
  }
 },
 "nbformat": 4,
 "nbformat_minor": 0
}
