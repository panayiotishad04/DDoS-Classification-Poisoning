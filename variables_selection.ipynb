{
 "cells": [
  {
   "cell_type": "code",
   "execution_count": null,
   "metadata": {},
   "outputs": [],
   "source": [
    "from sklearn.model_selection import train_test_split\n",
    "import pandas as pd "
   ]
  },
  {
   "cell_type": "code",
   "execution_count": null,
   "metadata": {},
   "outputs": [],
   "source": [
    "pd.set_option('display.max_columns', None)  # Show all columns"
   ]
  },
  {
   "cell_type": "code",
   "execution_count": null,
   "metadata": {},
   "outputs": [],
   "source": [
    "df_ddos_i = pd.read_csv(\"Only_DDOS.csv\",delimiter=\",\")\n",
    "#df_ddos_i = df_ddos_i.sample(n=20000, random_state=42)\n",
    "df_ddos_i"
   ]
  },
  {
   "cell_type": "code",
   "execution_count": null,
   "metadata": {},
   "outputs": [],
   "source": [
    "cols_names = list(df_ddos_i.columns)\n",
    "# Crear un diccionario para almacenar los resultados\n",
    "conteo_dict = {\n",
    "    'column_name': [],\n",
    "    '0': [],\n",
    "    '-': [],\n",
    "    '0.': [],\n",
    "    \n",
    "}\n",
    "\n",
    "# Loop a través de las columnas y calcula los valores necesarios\n",
    "for i in cols_names:\n",
    "    conteo_dict['column_name'].append(i)\n",
    "    \n",
    "    # Para el DataFrame `df_ddos`\n",
    "    conteo_dict['-'].append(((df_ddos_i[i] == \"-\").sum() / len(df_ddos_i))*100)\n",
    "    conteo_dict['0'].append(((df_ddos_i[i] == \"0\").sum() / len(df_ddos_i))*100)\n",
    "    conteo_dict['0.'].append(((df_ddos_i[i] == 0).sum() / len(df_ddos_i))*100)\n",
    "   \n",
    "# Convertir el diccionario en un DataFrame\n",
    "conteo_df = pd.DataFrame(conteo_dict)\n",
    "\n",
    "# Mostrar el DataFrame resultante\n",
    "conteo_df\n"
   ]
  },
  {
   "cell_type": "code",
   "execution_count": null,
   "metadata": {},
   "outputs": [],
   "source": [
    "df_ddos_7 = pd.read_csv(\"Only_DDOS_7-1.csv\",delimiter=\",\")\n",
    "df_ddos_7 = df_ddos_7.sample(n=20000, random_state=42)\n",
    "df_ddos_7"
   ]
  },
  {
   "cell_type": "code",
   "execution_count": null,
   "metadata": {},
   "outputs": [],
   "source": [
    "cols_names = list(df_ddos_7.columns)\n",
    "# Crear un diccionario para almacenar los resultados\n",
    "conteo_dict = {\n",
    "    'column_name': [],\n",
    "    '0': [],\n",
    "    '-': [],\n",
    "    '0.': [],\n",
    "    \n",
    "}\n",
    "\n",
    "# Loop a través de las columnas y calcula los valores necesarios\n",
    "for i in cols_names:\n",
    "    conteo_dict['column_name'].append(i)\n",
    "    \n",
    "    # Para el DataFrame `df_ddos`\n",
    "    conteo_dict['-'].append(((df_ddos_7[i] == \"-\").sum() / len(df_ddos_7))*100)\n",
    "    conteo_dict['0'].append(((df_ddos_7[i] == \"0\").sum() / len(df_ddos_7))*100)\n",
    "    conteo_dict['0.'].append(((df_ddos_7[i] == 0).sum() / len(df_ddos_7))*100)\n",
    "   \n",
    "# Convertir el diccionario en un DataFrame\n",
    "conteo_df = pd.DataFrame(conteo_dict)\n",
    "\n",
    "# Mostrar el DataFrame resultante\n",
    "conteo_df"
   ]
  },
  {
   "cell_type": "code",
   "execution_count": null,
   "metadata": {},
   "outputs": [],
   "source": [
    "df_ddos_34 = pd.read_csv(\"Only_DDOS_34-1.csv\",delimiter=\",\")\n",
    "df_ddos_34"
   ]
  },
  {
   "cell_type": "code",
   "execution_count": null,
   "metadata": {},
   "outputs": [],
   "source": [
    "cols_names = list(df_ddos_34.columns)\n",
    "# Crear un diccionario para almacenar los resultados\n",
    "conteo_dict = {\n",
    "    'column_name': [],\n",
    "    '0': [],\n",
    "    '-': [],\n",
    "    '0.': [],\n",
    "    \n",
    "}\n",
    "\n",
    "# Loop a través de las columnas y calcula los valores necesarios\n",
    "for i in cols_names:\n",
    "    conteo_dict['column_name'].append(i)\n",
    "    \n",
    "    # Para el DataFrame `df_ddos`\n",
    "    conteo_dict['-'].append(((df_ddos_34[i] == \"-\").sum() / len(df_ddos_34))*100)\n",
    "    conteo_dict['0'].append(((df_ddos_34[i] == \"0\").sum() / len(df_ddos_34))*100)\n",
    "    conteo_dict['0.'].append(((df_ddos_34[i] == 0).sum() / len(df_ddos_34))*100)\n",
    "   \n",
    "# Convertir el diccionario en un DataFrame\n",
    "conteo_df = pd.DataFrame(conteo_dict)\n",
    "\n",
    "# Mostrar el DataFrame resultante\n",
    "conteo_df"
   ]
  },
  {
   "cell_type": "code",
   "execution_count": null,
   "metadata": {},
   "outputs": [],
   "source": [
    "df_ddos_60 = pd.read_csv(\"Only_DDOS_60-1.csv\",delimiter=\",\")\n",
    "df_ddos_60 = df_ddos_60.sample(n=20000, random_state=42)\n",
    "df_ddos_60"
   ]
  },
  {
   "cell_type": "code",
   "execution_count": null,
   "metadata": {},
   "outputs": [],
   "source": [
    "cols_names = list(df_ddos_60.columns)\n",
    "# Crear un diccionario para almacenar los resultados\n",
    "conteo_dict = {\n",
    "    'column_name': [],\n",
    "    '0': [],\n",
    "    '-': [],\n",
    "    '0.': [],\n",
    "    \n",
    "}\n",
    "\n",
    "# Loop a través de las columnas y calcula los valores necesarios\n",
    "for i in cols_names:\n",
    "    conteo_dict['column_name'].append(i)\n",
    "    \n",
    "    # Para el DataFrame `df_ddos`\n",
    "    conteo_dict['-'].append(((df_ddos_60[i] == \"-\").sum() / len(df_ddos_60))*100)\n",
    "    conteo_dict['0'].append(((df_ddos_60[i] == \"0\").sum() / len(df_ddos_60))*100)\n",
    "    conteo_dict['0.'].append(((df_ddos_60[i] == 0).sum() / len(df_ddos_60))*100)\n",
    "   \n",
    "# Convertir el diccionario en un DataFrame\n",
    "conteo_df = pd.DataFrame(conteo_dict)\n",
    "\n",
    "# Mostrar el DataFrame resultante\n",
    "conteo_df"
   ]
  },
  {
   "cell_type": "code",
   "execution_count": null,
   "metadata": {},
   "outputs": [],
   "source": [
    "df_ben_i = pd.read_csv(\"Only_Benign.csv\",delimiter=\",\")\n",
    "df_ben_i = df_ben_i.sample(n=35000, random_state=42)\n",
    "df_ben_i"
   ]
  },
  {
   "cell_type": "code",
   "execution_count": null,
   "metadata": {},
   "outputs": [],
   "source": [
    "cols_names = list(df_ben_i.columns)\n",
    "# Crear un diccionario para almacenar los resultados\n",
    "conteo_dict = {\n",
    "    'column_name': [],\n",
    "    '0': [],\n",
    "    '-': [],\n",
    "    '0.': [],\n",
    "    \n",
    "}\n",
    "\n",
    "# Loop a través de las columnas y calcula los valores necesarios\n",
    "for i in cols_names:\n",
    "    conteo_dict['column_name'].append(i)\n",
    "    \n",
    "    # Para el DataFrame `df_ddos`\n",
    "    conteo_dict['-'].append(((df_ben_i[i] == \"-\").sum() / len(df_ben_i))*100)\n",
    "    conteo_dict['0'].append(((df_ben_i[i] == \"0\").sum() / len(df_ben_i))*100)\n",
    "    conteo_dict['0.'].append(((df_ben_i[i] == 0).sum() / len(df_ben_i))*100)\n",
    "   \n",
    "# Convertir el diccionario en un DataFrame\n",
    "conteo_df = pd.DataFrame(conteo_dict)\n",
    "\n",
    "# Mostrar el DataFrame resultante\n",
    "conteo_df"
   ]
  },
  {
   "cell_type": "code",
   "execution_count": null,
   "metadata": {},
   "outputs": [],
   "source": [
    "df_ben_7 = pd.read_csv(\"Only_Benign_7-1.csv\",delimiter=\",\")\n",
    "df_ben_7 = df_ben_7.sample(n=35000, random_state=42)\n",
    "df_ben_7"
   ]
  },
  {
   "cell_type": "code",
   "execution_count": null,
   "metadata": {},
   "outputs": [],
   "source": [
    "cols_names = list(df_ben_7.columns)\n",
    "# Crear un diccionario para almacenar los resultados\n",
    "conteo_dict = {\n",
    "    'column_name': [],\n",
    "    '0': [],\n",
    "    '-': [],\n",
    "    '0.': [],\n",
    "    \n",
    "}\n",
    "\n",
    "# Loop a través de las columnas y calcula los valores necesarios\n",
    "for i in cols_names:\n",
    "    conteo_dict['column_name'].append(i)\n",
    "    \n",
    "    # Para el DataFrame `df_ddos`\n",
    "    conteo_dict['-'].append(((df_ben_7[i] == \"-\").sum() / len(df_ben_7))*100)\n",
    "    conteo_dict['0'].append(((df_ben_7[i] == \"0\").sum() / len(df_ben_7))*100)\n",
    "    conteo_dict['0.'].append(((df_ben_7[i] == 0).sum() / len(df_ben_7))*100)\n",
    "   \n",
    "# Convertir el diccionario en un DataFrame\n",
    "conteo_df = pd.DataFrame(conteo_dict)\n",
    "\n",
    "# Mostrar el DataFrame resultante\n",
    "conteo_df"
   ]
  },
  {
   "cell_type": "code",
   "execution_count": null,
   "metadata": {},
   "outputs": [],
   "source": [
    "df_ben_34 = pd.read_csv(\"Only_Benign_34-1.csv\",delimiter=\",\")\n",
    "df_ben_34"
   ]
  },
  {
   "cell_type": "code",
   "execution_count": null,
   "metadata": {},
   "outputs": [],
   "source": [
    "cols_names = list(df_ben_34.columns)\n",
    "# Crear un diccionario para almacenar los resultados\n",
    "conteo_dict = {\n",
    "    'column_name': [],\n",
    "    '0': [],\n",
    "    '-': [],\n",
    "    '0.': [],\n",
    "    \n",
    "}\n",
    "\n",
    "# Loop a través de las columnas y calcula los valores necesarios\n",
    "for i in cols_names:\n",
    "    conteo_dict['column_name'].append(i)\n",
    "    \n",
    "    # Para el DataFrame `df_ddos`\n",
    "    conteo_dict['-'].append(((df_ben_34[i] == \"-\").sum() / len(df_ben_34))*100)\n",
    "    conteo_dict['0'].append(((df_ben_34[i] == \"0\").sum() / len(df_ben_34))*100)\n",
    "    conteo_dict['0.'].append(((df_ben_34[i] == 0).sum() / len(df_ben_34))*100)\n",
    "   \n",
    "# Convertir el diccionario en un DataFrame\n",
    "conteo_df = pd.DataFrame(conteo_dict)\n",
    "\n",
    "# Mostrar el DataFrame resultante\n",
    "conteo_df"
   ]
  },
  {
   "cell_type": "code",
   "execution_count": null,
   "metadata": {},
   "outputs": [],
   "source": [
    "df_ben_60 = pd.read_csv(\"Only_Benign_60-1.csv\",delimiter=\",\")\n",
    "df_ben_60"
   ]
  },
  {
   "cell_type": "code",
   "execution_count": null,
   "metadata": {},
   "outputs": [],
   "source": [
    "cols_names = list(df_ben_60.columns)\n",
    "# Crear un diccionario para almacenar los resultados\n",
    "conteo_dict = {\n",
    "    'column_name': [],\n",
    "    '0': [],\n",
    "    '-': [],\n",
    "    '0.': [],\n",
    "    \n",
    "}\n",
    "\n",
    "# Loop a través de las columnas y calcula los valores necesarios\n",
    "for i in cols_names:\n",
    "    conteo_dict['column_name'].append(i)\n",
    "    \n",
    "    # Para el DataFrame `df_ddos`\n",
    "    conteo_dict['-'].append(((df_ben_60[i] == \"-\").sum() / len(df_ben_60))*100)\n",
    "    conteo_dict['0'].append(((df_ben_60[i] == \"0\").sum() / len(df_ben_60))*100)\n",
    "    conteo_dict['0.'].append(((df_ben_60[i] == 0).sum() / len(df_ben_60))*100)\n",
    "   \n",
    "# Convertir el diccionario en un DataFrame\n",
    "conteo_df = pd.DataFrame(conteo_dict)\n",
    "\n",
    "# Mostrar el DataFrame resultante\n",
    "conteo_df"
   ]
  },
  {
   "cell_type": "code",
   "execution_count": null,
   "metadata": {},
   "outputs": [],
   "source": [
    "df_ddos = pd.concat([df_ddos_i,df_ddos_7,df_ddos_34,df_ddos_60], ignore_index=True)\n",
    "df_ddos.shape"
   ]
  },
  {
   "cell_type": "code",
   "execution_count": null,
   "metadata": {},
   "outputs": [],
   "source": [
    "df_ben = pd.concat([df_ben_i,df_ben_7,df_ben_34,df_ben_60],ignore_index=True)\n",
    "df_ben.shape"
   ]
  },
  {
   "cell_type": "code",
   "execution_count": null,
   "metadata": {},
   "outputs": [],
   "source": [
    "cols_names = list(df_ddos.columns)\n",
    "# Crear un diccionario para almacenar los resultados\n",
    "conteo_dict = {\n",
    "    'column_name': [],\n",
    "    '0 in ddos': [],\n",
    "    '- in ddos': [],\n",
    "    '0. in ddos': [],\n",
    "    '0 in ben': [],\n",
    "    '- in ben': [],\n",
    "    '0. in ben': []\n",
    "}\n",
    "\n",
    "# Loop a través de las columnas y calcula los valores necesarios\n",
    "for i in cols_names:\n",
    "    conteo_dict['column_name'].append(i)\n",
    "    \n",
    "    # Para el DataFrame `df_ddos`\n",
    "    conteo_dict['- in ddos'].append(((df_ddos[i] == \"-\").sum() / len(df_ddos))*100)\n",
    "    conteo_dict['0 in ddos'].append(((df_ddos[i] == \"0\").sum() / len(df_ddos))*100)\n",
    "    conteo_dict['0. in ddos'].append(((df_ddos[i] == 0).sum() / len(df_ddos))*100)\n",
    "    \n",
    "    # Para el DataFrame `df_ben`\n",
    "    conteo_dict['- in ben'].append(((df_ben[i] == \"-\").sum() / len(df_ben))*100)\n",
    "    conteo_dict['0 in ben'].append(((df_ben[i] == \"0\").sum() / len(df_ben))*100)\n",
    "    conteo_dict['0. in ben'].append(((df_ben[i] == 0).sum() / len(df_ben))*100)\n",
    "\n",
    "# Convertir el diccionario en un DataFrame\n",
    "conteo_df = pd.DataFrame(conteo_dict)\n",
    "\n",
    "# Mostrar el DataFrame resultante\n",
    "conteo_df\n"
   ]
  },
  {
   "cell_type": "code",
   "execution_count": null,
   "metadata": {},
   "outputs": [],
   "source": [
    "df_ben = df_ben.drop(['ts_time','uid_string','service_string', 'duration_interval','orig_bytes_count','resp_bytes_count','local_orig_bool','local_resp_bool','missed_bytes_count','tunnel','Category-detail','history_string'], axis=1)\n",
    "df_ddos = df_ddos.drop(['ts_time','uid_string','service_string', 'duration_interval','orig_bytes_count','resp_bytes_count','local_orig_bool','local_resp_bool','missed_bytes_count','tunnel','Category-detail','history_string'], axis=1)\n"
   ]
  },
  {
   "cell_type": "code",
   "execution_count": null,
   "metadata": {},
   "outputs": [],
   "source": [
    "print(\"Shape benigns\",df_ben.shape)\n",
    "print(\"shape ddos\",df_ddos.shape)"
   ]
  },
  {
   "cell_type": "code",
   "execution_count": null,
   "metadata": {},
   "outputs": [],
   "source": []
  }
 ],
 "metadata": {
  "kernelspec": {
   "display_name": "Python 3",
   "language": "python",
   "name": "python3"
  },
  "language_info": {
   "codemirror_mode": {
    "name": "ipython",
    "version": 3
   },
   "file_extension": ".py",
   "mimetype": "text/x-python",
   "name": "python",
   "nbconvert_exporter": "python",
   "pygments_lexer": "ipython3",
   "version": "3.9.0"
  }
 },
 "nbformat": 4,
 "nbformat_minor": 2
}
