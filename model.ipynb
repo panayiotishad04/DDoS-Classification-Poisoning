{
 "cells": [
  {
   "cell_type": "code",
   "execution_count": 26,
   "metadata": {},
   "outputs": [],
   "source": [
    "from sklearn.model_selection import train_test_split\n",
    "import pandas as pd "
   ]
  },
  {
   "cell_type": "code",
   "execution_count": 27,
   "metadata": {},
   "outputs": [],
   "source": [
    "pd.set_option('display.max_columns', None)  # Show all columns"
   ]
  },
  {
   "cell_type": "code",
   "execution_count": 28,
   "metadata": {},
   "outputs": [
    {
     "name": "stderr",
     "output_type": "stream",
     "text": [
      "/var/folders/nj/scyrvwln431b58h3d50x1v600000gn/T/ipykernel_3874/3977034436.py:1: DtypeWarning: Columns (8,9,10) have mixed types. Specify dtype option on import or set low_memory=False.\n",
      "  df_ddos = pd.read_csv(\"dataset/normal_dataset/Only_DDOS.csv\",delimiter=\",\")\n"
     ]
    },
    {
     "data": {
      "text/plain": "              ts_time          uid_string   id.orig_addr  id.orig_port  \\\n0        1.545452e+09  CmgfaE2BlYQZWKNgy4  192.168.1.196         17217   \n1        1.545452e+09  CdUEGF3LGSzBEIkmZb  192.168.1.196         61635   \n2        1.545452e+09  CxLtJA4HoDhofMacqi  192.168.1.196         28115   \n3        1.545452e+09   CpDo1ucqUWa1TriGj  192.168.1.196         42776   \n4        1.545452e+09  CPUivV3glDIFZfYDK7  192.168.1.196         57665   \n...               ...                 ...            ...           ...   \n2185297  1.545477e+09  CjYmd14eKgtnCFh1Ye  192.168.1.196         53686   \n2185298  1.545477e+09   C2WkTRVpaV4yoRLS1  192.168.1.196         56562   \n2185299  1.545477e+09   CVdNobsaAanxpggxf  192.168.1.196         56562   \n2185300  1.545477e+09  CRs9Lf4TY3Qr9V0vta  192.168.1.196         56562   \n2185301  1.545477e+09  C9idx83TKMLu8dQRU4  192.168.1.196         56562   \n\n          id.resp_haddr  id.resp_pport proto_enum service_string  \\\n0        209.97.190.136             80        tcp              -   \n1        209.97.190.136             80        tcp              -   \n2        209.97.190.136             80        tcp              -   \n3        209.97.190.136             80        tcp              -   \n4        209.97.190.136             80        tcp              -   \n...                 ...            ...        ...            ...   \n2185297   216.18.168.16            443        tcp            ssl   \n2185298   216.18.168.16             80        tcp              -   \n2185299   216.18.168.16             80        tcp              -   \n2185300   216.18.168.16             80        tcp              -   \n2185301   216.18.168.16             80        tcp              -   \n\n        duration_interval orig_bytes_count resp_bytes_count conn_state_string  \\\n0                2.336936                0                0            RSTOS0   \n1                3.356312                0                0            RSTOS0   \n2                       -                -                -            RSTOS0   \n3                3.973249                0                0            RSTOS0   \n4                3.823055                0                0            RSTOS0   \n...                   ...              ...              ...               ...   \n2185297          4.285068              555           386308                SF   \n2185298                 -                -                -                SH   \n2185299                 -                -                -                SH   \n2185300                 -                -                -                SH   \n2185301                 -                -                -                SH   \n\n        local_orig_bool local_resp_bool  missed_bytes_count history_string  \\\n0                     -               -                   0              I   \n1                     -               -                   0              I   \n2                     -               -                   0              I   \n3                     -               -                   0              I   \n4                     -               -                   0              I   \n...                 ...             ...                 ...            ...   \n2185297               -               -                5792    ShADdtatFfR   \n2185298               -               -                   0              F   \n2185299               -               -                   0              F   \n2185300               -               -                   0              F   \n2185301               -               -                   0              F   \n\n         orig_pkts_count  orig_ip_bytes_count  resp_pkts_count  resp_bytes  \\\n0                      2                   80                0           0   \n1                      3                  120                0           0   \n2                      1                   40                0           0   \n3                      4                  160                0           0   \n4                      3                  120                0           0   \n...                  ...                  ...              ...         ...   \n2185297              270                17294              275      404960   \n2185298                1                   52                0           0   \n2185299                1                   52                0           0   \n2185300                1                   52                0           0   \n2185301                1                   52                0           0   \n\n        tunnel   Category Category-detail  \n0            -  Malicious            DDoS  \n1            -  Malicious            DDoS  \n2            -  Malicious            DDoS  \n3            -  Malicious            DDoS  \n4            -  Malicious            DDoS  \n...        ...        ...             ...  \n2185297      -  Malicious            DDoS  \n2185298      -  Malicious            DDoS  \n2185299      -  Malicious            DDoS  \n2185300      -  Malicious            DDoS  \n2185301      -  Malicious            DDoS  \n\n[2185302 rows x 23 columns]",
      "text/html": "<div>\n<style scoped>\n    .dataframe tbody tr th:only-of-type {\n        vertical-align: middle;\n    }\n\n    .dataframe tbody tr th {\n        vertical-align: top;\n    }\n\n    .dataframe thead th {\n        text-align: right;\n    }\n</style>\n<table border=\"1\" class=\"dataframe\">\n  <thead>\n    <tr style=\"text-align: right;\">\n      <th></th>\n      <th>ts_time</th>\n      <th>uid_string</th>\n      <th>id.orig_addr</th>\n      <th>id.orig_port</th>\n      <th>id.resp_haddr</th>\n      <th>id.resp_pport</th>\n      <th>proto_enum</th>\n      <th>service_string</th>\n      <th>duration_interval</th>\n      <th>orig_bytes_count</th>\n      <th>resp_bytes_count</th>\n      <th>conn_state_string</th>\n      <th>local_orig_bool</th>\n      <th>local_resp_bool</th>\n      <th>missed_bytes_count</th>\n      <th>history_string</th>\n      <th>orig_pkts_count</th>\n      <th>orig_ip_bytes_count</th>\n      <th>resp_pkts_count</th>\n      <th>resp_bytes</th>\n      <th>tunnel</th>\n      <th>Category</th>\n      <th>Category-detail</th>\n    </tr>\n  </thead>\n  <tbody>\n    <tr>\n      <th>0</th>\n      <td>1.545452e+09</td>\n      <td>CmgfaE2BlYQZWKNgy4</td>\n      <td>192.168.1.196</td>\n      <td>17217</td>\n      <td>209.97.190.136</td>\n      <td>80</td>\n      <td>tcp</td>\n      <td>-</td>\n      <td>2.336936</td>\n      <td>0</td>\n      <td>0</td>\n      <td>RSTOS0</td>\n      <td>-</td>\n      <td>-</td>\n      <td>0</td>\n      <td>I</td>\n      <td>2</td>\n      <td>80</td>\n      <td>0</td>\n      <td>0</td>\n      <td>-</td>\n      <td>Malicious</td>\n      <td>DDoS</td>\n    </tr>\n    <tr>\n      <th>1</th>\n      <td>1.545452e+09</td>\n      <td>CdUEGF3LGSzBEIkmZb</td>\n      <td>192.168.1.196</td>\n      <td>61635</td>\n      <td>209.97.190.136</td>\n      <td>80</td>\n      <td>tcp</td>\n      <td>-</td>\n      <td>3.356312</td>\n      <td>0</td>\n      <td>0</td>\n      <td>RSTOS0</td>\n      <td>-</td>\n      <td>-</td>\n      <td>0</td>\n      <td>I</td>\n      <td>3</td>\n      <td>120</td>\n      <td>0</td>\n      <td>0</td>\n      <td>-</td>\n      <td>Malicious</td>\n      <td>DDoS</td>\n    </tr>\n    <tr>\n      <th>2</th>\n      <td>1.545452e+09</td>\n      <td>CxLtJA4HoDhofMacqi</td>\n      <td>192.168.1.196</td>\n      <td>28115</td>\n      <td>209.97.190.136</td>\n      <td>80</td>\n      <td>tcp</td>\n      <td>-</td>\n      <td>-</td>\n      <td>-</td>\n      <td>-</td>\n      <td>RSTOS0</td>\n      <td>-</td>\n      <td>-</td>\n      <td>0</td>\n      <td>I</td>\n      <td>1</td>\n      <td>40</td>\n      <td>0</td>\n      <td>0</td>\n      <td>-</td>\n      <td>Malicious</td>\n      <td>DDoS</td>\n    </tr>\n    <tr>\n      <th>3</th>\n      <td>1.545452e+09</td>\n      <td>CpDo1ucqUWa1TriGj</td>\n      <td>192.168.1.196</td>\n      <td>42776</td>\n      <td>209.97.190.136</td>\n      <td>80</td>\n      <td>tcp</td>\n      <td>-</td>\n      <td>3.973249</td>\n      <td>0</td>\n      <td>0</td>\n      <td>RSTOS0</td>\n      <td>-</td>\n      <td>-</td>\n      <td>0</td>\n      <td>I</td>\n      <td>4</td>\n      <td>160</td>\n      <td>0</td>\n      <td>0</td>\n      <td>-</td>\n      <td>Malicious</td>\n      <td>DDoS</td>\n    </tr>\n    <tr>\n      <th>4</th>\n      <td>1.545452e+09</td>\n      <td>CPUivV3glDIFZfYDK7</td>\n      <td>192.168.1.196</td>\n      <td>57665</td>\n      <td>209.97.190.136</td>\n      <td>80</td>\n      <td>tcp</td>\n      <td>-</td>\n      <td>3.823055</td>\n      <td>0</td>\n      <td>0</td>\n      <td>RSTOS0</td>\n      <td>-</td>\n      <td>-</td>\n      <td>0</td>\n      <td>I</td>\n      <td>3</td>\n      <td>120</td>\n      <td>0</td>\n      <td>0</td>\n      <td>-</td>\n      <td>Malicious</td>\n      <td>DDoS</td>\n    </tr>\n    <tr>\n      <th>...</th>\n      <td>...</td>\n      <td>...</td>\n      <td>...</td>\n      <td>...</td>\n      <td>...</td>\n      <td>...</td>\n      <td>...</td>\n      <td>...</td>\n      <td>...</td>\n      <td>...</td>\n      <td>...</td>\n      <td>...</td>\n      <td>...</td>\n      <td>...</td>\n      <td>...</td>\n      <td>...</td>\n      <td>...</td>\n      <td>...</td>\n      <td>...</td>\n      <td>...</td>\n      <td>...</td>\n      <td>...</td>\n      <td>...</td>\n    </tr>\n    <tr>\n      <th>2185297</th>\n      <td>1.545477e+09</td>\n      <td>CjYmd14eKgtnCFh1Ye</td>\n      <td>192.168.1.196</td>\n      <td>53686</td>\n      <td>216.18.168.16</td>\n      <td>443</td>\n      <td>tcp</td>\n      <td>ssl</td>\n      <td>4.285068</td>\n      <td>555</td>\n      <td>386308</td>\n      <td>SF</td>\n      <td>-</td>\n      <td>-</td>\n      <td>5792</td>\n      <td>ShADdtatFfR</td>\n      <td>270</td>\n      <td>17294</td>\n      <td>275</td>\n      <td>404960</td>\n      <td>-</td>\n      <td>Malicious</td>\n      <td>DDoS</td>\n    </tr>\n    <tr>\n      <th>2185298</th>\n      <td>1.545477e+09</td>\n      <td>C2WkTRVpaV4yoRLS1</td>\n      <td>192.168.1.196</td>\n      <td>56562</td>\n      <td>216.18.168.16</td>\n      <td>80</td>\n      <td>tcp</td>\n      <td>-</td>\n      <td>-</td>\n      <td>-</td>\n      <td>-</td>\n      <td>SH</td>\n      <td>-</td>\n      <td>-</td>\n      <td>0</td>\n      <td>F</td>\n      <td>1</td>\n      <td>52</td>\n      <td>0</td>\n      <td>0</td>\n      <td>-</td>\n      <td>Malicious</td>\n      <td>DDoS</td>\n    </tr>\n    <tr>\n      <th>2185299</th>\n      <td>1.545477e+09</td>\n      <td>CVdNobsaAanxpggxf</td>\n      <td>192.168.1.196</td>\n      <td>56562</td>\n      <td>216.18.168.16</td>\n      <td>80</td>\n      <td>tcp</td>\n      <td>-</td>\n      <td>-</td>\n      <td>-</td>\n      <td>-</td>\n      <td>SH</td>\n      <td>-</td>\n      <td>-</td>\n      <td>0</td>\n      <td>F</td>\n      <td>1</td>\n      <td>52</td>\n      <td>0</td>\n      <td>0</td>\n      <td>-</td>\n      <td>Malicious</td>\n      <td>DDoS</td>\n    </tr>\n    <tr>\n      <th>2185300</th>\n      <td>1.545477e+09</td>\n      <td>CRs9Lf4TY3Qr9V0vta</td>\n      <td>192.168.1.196</td>\n      <td>56562</td>\n      <td>216.18.168.16</td>\n      <td>80</td>\n      <td>tcp</td>\n      <td>-</td>\n      <td>-</td>\n      <td>-</td>\n      <td>-</td>\n      <td>SH</td>\n      <td>-</td>\n      <td>-</td>\n      <td>0</td>\n      <td>F</td>\n      <td>1</td>\n      <td>52</td>\n      <td>0</td>\n      <td>0</td>\n      <td>-</td>\n      <td>Malicious</td>\n      <td>DDoS</td>\n    </tr>\n    <tr>\n      <th>2185301</th>\n      <td>1.545477e+09</td>\n      <td>C9idx83TKMLu8dQRU4</td>\n      <td>192.168.1.196</td>\n      <td>56562</td>\n      <td>216.18.168.16</td>\n      <td>80</td>\n      <td>tcp</td>\n      <td>-</td>\n      <td>-</td>\n      <td>-</td>\n      <td>-</td>\n      <td>SH</td>\n      <td>-</td>\n      <td>-</td>\n      <td>0</td>\n      <td>F</td>\n      <td>1</td>\n      <td>52</td>\n      <td>0</td>\n      <td>0</td>\n      <td>-</td>\n      <td>Malicious</td>\n      <td>DDoS</td>\n    </tr>\n  </tbody>\n</table>\n<p>2185302 rows × 23 columns</p>\n</div>"
     },
     "execution_count": 28,
     "metadata": {},
     "output_type": "execute_result"
    }
   ],
   "source": [
    "df_ddos = pd.read_csv(\"dataset/normal_dataset/Only_DDOS.csv\",delimiter=\",\")\n",
    "df_ddos"
   ]
  },
  {
   "cell_type": "code",
   "execution_count": 29,
   "metadata": {},
   "outputs": [
    {
     "data": {
      "text/plain": "              ts_time          uid_string    id.orig_addr  id.orig_port  \\\n0        1.545403e+09  CDn2pd1rDD1lCMXAia   192.168.1.196         35883   \n1        1.545403e+09  C1NKkV3tB4rImzbpDj   192.168.1.196         43531   \n2        1.545403e+09   Cxoiu11zgEdj4MX27   192.168.1.196         39189   \n3        1.545403e+09  ChlyUB4IKofHtlEFO1   192.168.1.196           123   \n4        1.545403e+09  CgEG202REue0at76Je   192.168.1.196           123   \n...               ...                 ...             ...           ...   \n8262384  1.545489e+09  COBDPD3KxUR6kHRFd6   192.168.1.196         54034   \n8262385  1.545489e+09  ClB8ai4Qrd9327GNH1   192.168.1.196         38638   \n8262386  1.545487e+09   C7tILLtahZJ95prY2   192.168.1.196         41504   \n8262387  1.545489e+09  CKyW4U3CKnNv9iyzV2   192.168.1.196           123   \n8262388  1.545489e+09  CX5bG81XCH2suiPkO7  200.170.187.33             3   \n\n           id.resp_haddr  id.resp_pport proto_enum service_string  \\\n0            192.168.1.1             53        udp            dns   \n1            192.168.1.1             53        udp            dns   \n2            192.168.1.1             53        udp            dns   \n3         89.221.210.188            123        udp              -   \n4            31.31.74.35            123        udp              -   \n...                  ...            ...        ...            ...   \n8262384  243.173.162.237             23        tcp              -   \n8262385  115.129.182.143             23        tcp              -   \n8262386  117.104.129.195             23        tcp              -   \n8262387   89.221.210.188            123        udp              -   \n8262388    192.168.1.196              1       icmp              -   \n\n        duration_interval orig_bytes_count resp_bytes_count conn_state_string  \\\n0                5.005148               78                0                S0   \n1                5.005145               78                0                S0   \n2                5.005149               78                0                S0   \n3                0.143648               48               48                SF   \n4                0.004481               48               48                SF   \n...                   ...              ...              ...               ...   \n8262384                 -                -                -                S0   \n8262385        144.578522                0                0                S2   \n8262386        188.159685                0                0                S1   \n8262387                 -                -                -                S0   \n8262388                 -                -                -               OTH   \n\n        local_orig_bool local_resp_bool  missed_bytes_count history_string  \\\n0                     -               -                   0              D   \n1                     -               -                   0              D   \n2                     -               -                   0              D   \n3                     -               -                   0             Dd   \n4                     -               -                   0             Dd   \n...                 ...             ...                 ...            ...   \n8262384               -               -                   0              S   \n8262385               -               -                   0           ShAF   \n8262386               -               -                   0           ShwA   \n8262387               -               -                   0              D   \n8262388               -               -                   0              -   \n\n         orig_pkts_count  orig_ip_bytes_count  resp_pkts_count  resp_bytes  \\\n0                      2                  134                0           0   \n1                      2                  134                0           0   \n2                      2                  134                0           0   \n3                      1                   76                1          76   \n4                      1                   76                1          76   \n...                  ...                  ...              ...         ...   \n8262384                1                   60                0           0   \n8262385               10                  460                1          44   \n8262386                5                  220                1          44   \n8262387                1                   76                0           0   \n8262388                1                   88                0           0   \n\n        tunnel Category Category-detail  \n0            -   Benign               -  \n1            -   Benign               -  \n2            -   Benign               -  \n3            -   Benign               -  \n4            -   Benign               -  \n...        ...      ...             ...  \n8262384      -   Benign               -  \n8262385      -   Benign               -  \n8262386      -   Benign               -  \n8262387      -   Benign               -  \n8262388      -   Benign               -  \n\n[8262389 rows x 23 columns]",
      "text/html": "<div>\n<style scoped>\n    .dataframe tbody tr th:only-of-type {\n        vertical-align: middle;\n    }\n\n    .dataframe tbody tr th {\n        vertical-align: top;\n    }\n\n    .dataframe thead th {\n        text-align: right;\n    }\n</style>\n<table border=\"1\" class=\"dataframe\">\n  <thead>\n    <tr style=\"text-align: right;\">\n      <th></th>\n      <th>ts_time</th>\n      <th>uid_string</th>\n      <th>id.orig_addr</th>\n      <th>id.orig_port</th>\n      <th>id.resp_haddr</th>\n      <th>id.resp_pport</th>\n      <th>proto_enum</th>\n      <th>service_string</th>\n      <th>duration_interval</th>\n      <th>orig_bytes_count</th>\n      <th>resp_bytes_count</th>\n      <th>conn_state_string</th>\n      <th>local_orig_bool</th>\n      <th>local_resp_bool</th>\n      <th>missed_bytes_count</th>\n      <th>history_string</th>\n      <th>orig_pkts_count</th>\n      <th>orig_ip_bytes_count</th>\n      <th>resp_pkts_count</th>\n      <th>resp_bytes</th>\n      <th>tunnel</th>\n      <th>Category</th>\n      <th>Category-detail</th>\n    </tr>\n  </thead>\n  <tbody>\n    <tr>\n      <th>0</th>\n      <td>1.545403e+09</td>\n      <td>CDn2pd1rDD1lCMXAia</td>\n      <td>192.168.1.196</td>\n      <td>35883</td>\n      <td>192.168.1.1</td>\n      <td>53</td>\n      <td>udp</td>\n      <td>dns</td>\n      <td>5.005148</td>\n      <td>78</td>\n      <td>0</td>\n      <td>S0</td>\n      <td>-</td>\n      <td>-</td>\n      <td>0</td>\n      <td>D</td>\n      <td>2</td>\n      <td>134</td>\n      <td>0</td>\n      <td>0</td>\n      <td>-</td>\n      <td>Benign</td>\n      <td>-</td>\n    </tr>\n    <tr>\n      <th>1</th>\n      <td>1.545403e+09</td>\n      <td>C1NKkV3tB4rImzbpDj</td>\n      <td>192.168.1.196</td>\n      <td>43531</td>\n      <td>192.168.1.1</td>\n      <td>53</td>\n      <td>udp</td>\n      <td>dns</td>\n      <td>5.005145</td>\n      <td>78</td>\n      <td>0</td>\n      <td>S0</td>\n      <td>-</td>\n      <td>-</td>\n      <td>0</td>\n      <td>D</td>\n      <td>2</td>\n      <td>134</td>\n      <td>0</td>\n      <td>0</td>\n      <td>-</td>\n      <td>Benign</td>\n      <td>-</td>\n    </tr>\n    <tr>\n      <th>2</th>\n      <td>1.545403e+09</td>\n      <td>Cxoiu11zgEdj4MX27</td>\n      <td>192.168.1.196</td>\n      <td>39189</td>\n      <td>192.168.1.1</td>\n      <td>53</td>\n      <td>udp</td>\n      <td>dns</td>\n      <td>5.005149</td>\n      <td>78</td>\n      <td>0</td>\n      <td>S0</td>\n      <td>-</td>\n      <td>-</td>\n      <td>0</td>\n      <td>D</td>\n      <td>2</td>\n      <td>134</td>\n      <td>0</td>\n      <td>0</td>\n      <td>-</td>\n      <td>Benign</td>\n      <td>-</td>\n    </tr>\n    <tr>\n      <th>3</th>\n      <td>1.545403e+09</td>\n      <td>ChlyUB4IKofHtlEFO1</td>\n      <td>192.168.1.196</td>\n      <td>123</td>\n      <td>89.221.210.188</td>\n      <td>123</td>\n      <td>udp</td>\n      <td>-</td>\n      <td>0.143648</td>\n      <td>48</td>\n      <td>48</td>\n      <td>SF</td>\n      <td>-</td>\n      <td>-</td>\n      <td>0</td>\n      <td>Dd</td>\n      <td>1</td>\n      <td>76</td>\n      <td>1</td>\n      <td>76</td>\n      <td>-</td>\n      <td>Benign</td>\n      <td>-</td>\n    </tr>\n    <tr>\n      <th>4</th>\n      <td>1.545403e+09</td>\n      <td>CgEG202REue0at76Je</td>\n      <td>192.168.1.196</td>\n      <td>123</td>\n      <td>31.31.74.35</td>\n      <td>123</td>\n      <td>udp</td>\n      <td>-</td>\n      <td>0.004481</td>\n      <td>48</td>\n      <td>48</td>\n      <td>SF</td>\n      <td>-</td>\n      <td>-</td>\n      <td>0</td>\n      <td>Dd</td>\n      <td>1</td>\n      <td>76</td>\n      <td>1</td>\n      <td>76</td>\n      <td>-</td>\n      <td>Benign</td>\n      <td>-</td>\n    </tr>\n    <tr>\n      <th>...</th>\n      <td>...</td>\n      <td>...</td>\n      <td>...</td>\n      <td>...</td>\n      <td>...</td>\n      <td>...</td>\n      <td>...</td>\n      <td>...</td>\n      <td>...</td>\n      <td>...</td>\n      <td>...</td>\n      <td>...</td>\n      <td>...</td>\n      <td>...</td>\n      <td>...</td>\n      <td>...</td>\n      <td>...</td>\n      <td>...</td>\n      <td>...</td>\n      <td>...</td>\n      <td>...</td>\n      <td>...</td>\n      <td>...</td>\n    </tr>\n    <tr>\n      <th>8262384</th>\n      <td>1.545489e+09</td>\n      <td>COBDPD3KxUR6kHRFd6</td>\n      <td>192.168.1.196</td>\n      <td>54034</td>\n      <td>243.173.162.237</td>\n      <td>23</td>\n      <td>tcp</td>\n      <td>-</td>\n      <td>-</td>\n      <td>-</td>\n      <td>-</td>\n      <td>S0</td>\n      <td>-</td>\n      <td>-</td>\n      <td>0</td>\n      <td>S</td>\n      <td>1</td>\n      <td>60</td>\n      <td>0</td>\n      <td>0</td>\n      <td>-</td>\n      <td>Benign</td>\n      <td>-</td>\n    </tr>\n    <tr>\n      <th>8262385</th>\n      <td>1.545489e+09</td>\n      <td>ClB8ai4Qrd9327GNH1</td>\n      <td>192.168.1.196</td>\n      <td>38638</td>\n      <td>115.129.182.143</td>\n      <td>23</td>\n      <td>tcp</td>\n      <td>-</td>\n      <td>144.578522</td>\n      <td>0</td>\n      <td>0</td>\n      <td>S2</td>\n      <td>-</td>\n      <td>-</td>\n      <td>0</td>\n      <td>ShAF</td>\n      <td>10</td>\n      <td>460</td>\n      <td>1</td>\n      <td>44</td>\n      <td>-</td>\n      <td>Benign</td>\n      <td>-</td>\n    </tr>\n    <tr>\n      <th>8262386</th>\n      <td>1.545487e+09</td>\n      <td>C7tILLtahZJ95prY2</td>\n      <td>192.168.1.196</td>\n      <td>41504</td>\n      <td>117.104.129.195</td>\n      <td>23</td>\n      <td>tcp</td>\n      <td>-</td>\n      <td>188.159685</td>\n      <td>0</td>\n      <td>0</td>\n      <td>S1</td>\n      <td>-</td>\n      <td>-</td>\n      <td>0</td>\n      <td>ShwA</td>\n      <td>5</td>\n      <td>220</td>\n      <td>1</td>\n      <td>44</td>\n      <td>-</td>\n      <td>Benign</td>\n      <td>-</td>\n    </tr>\n    <tr>\n      <th>8262387</th>\n      <td>1.545489e+09</td>\n      <td>CKyW4U3CKnNv9iyzV2</td>\n      <td>192.168.1.196</td>\n      <td>123</td>\n      <td>89.221.210.188</td>\n      <td>123</td>\n      <td>udp</td>\n      <td>-</td>\n      <td>-</td>\n      <td>-</td>\n      <td>-</td>\n      <td>S0</td>\n      <td>-</td>\n      <td>-</td>\n      <td>0</td>\n      <td>D</td>\n      <td>1</td>\n      <td>76</td>\n      <td>0</td>\n      <td>0</td>\n      <td>-</td>\n      <td>Benign</td>\n      <td>-</td>\n    </tr>\n    <tr>\n      <th>8262388</th>\n      <td>1.545489e+09</td>\n      <td>CX5bG81XCH2suiPkO7</td>\n      <td>200.170.187.33</td>\n      <td>3</td>\n      <td>192.168.1.196</td>\n      <td>1</td>\n      <td>icmp</td>\n      <td>-</td>\n      <td>-</td>\n      <td>-</td>\n      <td>-</td>\n      <td>OTH</td>\n      <td>-</td>\n      <td>-</td>\n      <td>0</td>\n      <td>-</td>\n      <td>1</td>\n      <td>88</td>\n      <td>0</td>\n      <td>0</td>\n      <td>-</td>\n      <td>Benign</td>\n      <td>-</td>\n    </tr>\n  </tbody>\n</table>\n<p>8262389 rows × 23 columns</p>\n</div>"
     },
     "execution_count": 29,
     "metadata": {},
     "output_type": "execute_result"
    }
   ],
   "source": [
    "df_ben = pd.read_csv(\"dataset/normal_dataset/Only_Benign.csv\",delimiter=\",\")\n",
    "df_ben"
   ]
  },
  {
   "cell_type": "code",
   "execution_count": 30,
   "metadata": {},
   "outputs": [
    {
     "name": "stdout",
     "output_type": "stream",
     "text": [
      "Shape benigns (8262389, 23)\n",
      "shape ddos (2185302, 23)\n"
     ]
    }
   ],
   "source": [
    "print(\"Shape benigns\",df_ben.shape)\n",
    "print(\"shape ddos\",df_ddos.shape)"
   ]
  },
  {
   "cell_type": "code",
   "execution_count": 31,
   "metadata": {},
   "outputs": [],
   "source": [
    "df_ben = df_ben.drop(['local_resp_bool', 'local_orig_bool','tunnel'], axis=1)\n",
    "df_ddos = df_ddos.drop(['local_resp_bool', 'local_orig_bool','tunnel'], axis=1)"
   ]
  },
  {
   "cell_type": "code",
   "execution_count": 32,
   "metadata": {},
   "outputs": [
    {
     "name": "stdout",
     "output_type": "stream",
     "text": [
      "Shape benigns (8262389, 20)\n",
      "shape ddos (2185302, 20)\n"
     ]
    }
   ],
   "source": [
    "print(\"Shape benigns\",df_ben.shape)\n",
    "print(\"shape ddos\",df_ddos.shape)"
   ]
  },
  {
   "cell_type": "code",
   "execution_count": 33,
   "metadata": {},
   "outputs": [],
   "source": [
    "# df_ben = df_ben[df_ben['proto_enum'].isin(['tcp', 'udp'])]\n",
    "#filtering df_ben so that it only contains tcp and udp protocols"
   ]
  },
  {
   "cell_type": "code",
   "execution_count": 34,
   "metadata": {},
   "outputs": [
    {
     "name": "stdout",
     "output_type": "stream",
     "text": [
      "Shape benigns (8262389, 20)\n",
      "shape ddos (2185302, 20)\n"
     ]
    }
   ],
   "source": [
    "print(\"Shape benigns\",df_ben.shape)\n",
    "print(\"shape ddos\",df_ddos.shape)"
   ]
  },
  {
   "cell_type": "code",
   "execution_count": 35,
   "metadata": {},
   "outputs": [],
   "source": [
    "# df_ben = df_ben[df_ben['service_string'].isin(['http','-'])]\n",
    "#filtering df_ben so that it only contains http, -"
   ]
  },
  {
   "cell_type": "code",
   "execution_count": 36,
   "metadata": {},
   "outputs": [
    {
     "name": "stdout",
     "output_type": "stream",
     "text": [
      "Shape benigns (8262389, 20)\n",
      "shape ddos (2185302, 20)\n"
     ]
    }
   ],
   "source": [
    "print(\"Shape benigns\",df_ben.shape)\n",
    "print(\"shape ddos\",df_ddos.shape)"
   ]
  },
  {
   "cell_type": "code",
   "execution_count": 37,
   "metadata": {},
   "outputs": [],
   "source": [
    "# df_ben = df_ben[df_ben['id.orig_addr'].isin(['192.168.1.196'])]\n",
    "# filtering df_ben so that it only contains 192.168.1.196"
   ]
  },
  {
   "cell_type": "code",
   "execution_count": 38,
   "metadata": {},
   "outputs": [
    {
     "name": "stdout",
     "output_type": "stream",
     "text": [
      "Shape benigns (8262389, 20)\n",
      "shape ddos (2185302, 20)\n"
     ]
    }
   ],
   "source": [
    "print(\"Shape benigns\",df_ben.shape)\n",
    "print(\"shape ddos\",df_ddos.shape)"
   ]
  },
  {
   "cell_type": "code",
   "execution_count": 39,
   "metadata": {},
   "outputs": [
    {
     "data": {
      "text/plain": "['ts_time',\n 'uid_string',\n 'id.orig_addr',\n 'id.orig_port',\n 'id.resp_haddr',\n 'id.resp_pport',\n 'proto_enum',\n 'service_string',\n 'duration_interval',\n 'orig_bytes_count',\n 'resp_bytes_count',\n 'conn_state_string',\n 'missed_bytes_count',\n 'history_string',\n 'orig_pkts_count',\n 'orig_ip_bytes_count',\n 'resp_pkts_count',\n 'resp_bytes',\n 'Category',\n 'Category-detail']"
     },
     "execution_count": 39,
     "metadata": {},
     "output_type": "execute_result"
    }
   ],
   "source": [
    "df_ben.columns.to_list()"
   ]
  },
  {
   "cell_type": "code",
   "execution_count": 40,
   "metadata": {},
   "outputs": [
    {
     "name": "stdout",
     "output_type": "stream",
     "text": [
      "8262389\n"
     ]
    }
   ],
   "source": [
    "empty_count = df_ben['Category-detail'].apply(lambda x: str(x).strip() == \"\" or str(x).strip() == \"-\").sum()\n",
    "print(empty_count)\n",
    "#Shape benigns (8262389, 23)\n",
    "#shape ddos (2185302, 23)\n"
   ]
  },
  {
   "cell_type": "code",
   "execution_count": 45,
   "outputs": [],
   "source": [
    "import numpy as np\n",
    "\n",
    "# Clean the 'duration_interval' column\n",
    "def clean_and_convert(value):\n",
    "    # Check if the value is already numeric (float/int)\n",
    "    if isinstance(value, (float, int)):\n",
    "        return value\n",
    "\n",
    "    # If value is a string, proceed with cleaning\n",
    "    value = value.strip()\n",
    "    if value.endswith('-'):\n",
    "        value = value[:-1]\n",
    "    if value == '--':\n",
    "        return 0\n",
    "    return pd.to_numeric(value, errors='coerce')"
   ],
   "metadata": {
    "collapsed": false
   }
  },
  {
   "cell_type": "code",
   "execution_count": 101,
   "outputs": [
    {
     "name": "stdout",
     "output_type": "stream",
     "text": [
      "20000\n",
      "20000\n",
      "2\n"
     ]
    }
   ],
   "source": [
    "# Remove any columns that deem necessary\n",
    "remove_cols = [\n",
    "    'ts_time',\n",
    "    'uid_string',\n",
    "    'Category-detail',\n",
    "    'orig_bytes_count',\n",
    "    'resp_bytes_count'\n",
    "]\n",
    "\n",
    "\n",
    "for col in remove_cols:\n",
    "    df_ben = df_ben.drop(columns=[col])\n",
    "    df_ddos = df_ddos.drop(columns=[col])\n",
    "\n",
    "\n",
    "X_ben = df_ben[:10000].drop(columns=['Category'])\n",
    "X_ddos = df_ddos[:10000].drop(columns=['Category'])\n",
    "\n",
    "X = pd.concat([X_ben, X_ddos], ignore_index=True)\n",
    "\n",
    "# Combining the target labels\n",
    "y_ben = df_ben[:10000]['Category']\n",
    "y_ddos = df_ddos[:10000]['Category']\n",
    "\n",
    "y = pd.concat([y_ben, y_ddos], ignore_index=True)\n",
    "y, _ = pd.factorize(y)\n",
    "\n",
    "# 5. Identify numerical and categorical columns\n",
    "numerical_cols = [\n",
    "    'id.orig_port',\n",
    "    'id.resp_pport',\n",
    "    'orig_bytes_count',\n",
    "    'resp_bytes_count',\n",
    "    'missed_bytes_count',\n",
    "    'orig_pkts_count',\n",
    "    'orig_ip_bytes_count',\n",
    "    'resp_pkts_count',\n",
    "    'resp_bytes',\n",
    "]\n",
    "\n",
    "categorical_cols = [\n",
    "    'proto_enum',\n",
    "    'service_string',\n",
    "    'conn_state_string',\n",
    "    'history_string',\n",
    "    'id.orig_addr',\n",
    "    'id.resp_haddr',\n",
    "    'duration_interval',\n",
    "]\n",
    "\n",
    "# for col in numerical_cols:\n",
    "#     X[col], _ = pd.to_numeric(col)\n",
    "# df_ben['duration_interval'] = df_ben['duration_interval'].apply(clean_and_convert)\n",
    "# df_ddos['duration_interval'] = df_ddos['duration_interval'].apply(clean_and_convert)\n",
    "\n",
    "for col in categorical_cols:\n",
    "    X[col], _ = pd.factorize(X[col])\n",
    "\n",
    "X\n",
    "\n"
   ],
   "metadata": {
    "collapsed": false
   }
  },
  {
   "cell_type": "code",
   "execution_count": null,
   "outputs": [
    {
     "name": "stdout",
     "output_type": "stream",
     "text": [
      "Best hyperparameters for this fold: {'max_depth': None, 'max_features': 'sqrt', 'min_samples_leaf': 1, 'min_samples_split': 2, 'n_estimators': 50}\n",
      "Accuracy for this fold: 1.0\n",
      "[  0 123   3 123   0   1   5   1   0   1   1  76   1  76]\n",
      "Best hyperparameters for this fold: {'max_depth': None, 'max_features': 'sqrt', 'min_samples_leaf': 1, 'min_samples_split': 2, 'n_estimators': 50}\n",
      "Accuracy for this fold: 1.0\n",
      "[  0 123   3 123   0   1   5   1   0   1   1  76   1  76]\n",
      "Best hyperparameters for this fold: {'max_depth': None, 'max_features': 'sqrt', 'min_samples_leaf': 1, 'min_samples_split': 2, 'n_estimators': 50}\n",
      "Accuracy for this fold: 1.0\n",
      "[  0 123   3 123   0   1   5   1   0   1   1  76   1  76]\n",
      "Best hyperparameters for this fold: {'max_depth': None, 'max_features': 'sqrt', 'min_samples_leaf': 1, 'min_samples_split': 2, 'n_estimators': 50}\n",
      "Accuracy for this fold: 0.99975\n",
      "[  0 123   3 123   0   1   5   1   0   1   1  76   1  76]\n"
     ]
    },
    {
     "ename": "KeyboardInterrupt",
     "evalue": "",
     "output_type": "error",
     "traceback": [
      "\u001B[0;31m---------------------------------------------------------------------------\u001B[0m",
      "\u001B[0;31mKeyboardInterrupt\u001B[0m                         Traceback (most recent call last)",
      "Cell \u001B[0;32mIn[102], line 43\u001B[0m\n\u001B[1;32m     34\u001B[0m grid_search \u001B[38;5;241m=\u001B[39m GridSearchCV(\n\u001B[1;32m     35\u001B[0m     estimator\u001B[38;5;241m=\u001B[39mrf_model,\n\u001B[1;32m     36\u001B[0m     param_grid\u001B[38;5;241m=\u001B[39mparam_grid,\n\u001B[0;32m   (...)\u001B[0m\n\u001B[1;32m     39\u001B[0m     n_jobs\u001B[38;5;241m=\u001B[39m\u001B[38;5;241m-\u001B[39m\u001B[38;5;241m1\u001B[39m\n\u001B[1;32m     40\u001B[0m )\n\u001B[1;32m     42\u001B[0m \u001B[38;5;66;03m# Fit GridSearchCV on the training data of the current outer fold\u001B[39;00m\n\u001B[0;32m---> 43\u001B[0m \u001B[43mgrid_search\u001B[49m\u001B[38;5;241;43m.\u001B[39;49m\u001B[43mfit\u001B[49m\u001B[43m(\u001B[49m\u001B[43mX_train\u001B[49m\u001B[43m,\u001B[49m\u001B[43m \u001B[49m\u001B[43my_train\u001B[49m\u001B[43m)\u001B[49m\n\u001B[1;32m     45\u001B[0m \u001B[38;5;66;03m# Select the best model from the inner CV tuning\u001B[39;00m\n\u001B[1;32m     46\u001B[0m best_model \u001B[38;5;241m=\u001B[39m grid_search\u001B[38;5;241m.\u001B[39mbest_estimator_\n",
      "File \u001B[0;32m~/Documents/Master Cybersecurity/First Semester/Traffic Monitor Analysis/Test/lib/python3.10/site-packages/sklearn/base.py:1151\u001B[0m, in \u001B[0;36m_fit_context.<locals>.decorator.<locals>.wrapper\u001B[0;34m(estimator, *args, **kwargs)\u001B[0m\n\u001B[1;32m   1144\u001B[0m     estimator\u001B[38;5;241m.\u001B[39m_validate_params()\n\u001B[1;32m   1146\u001B[0m \u001B[38;5;28;01mwith\u001B[39;00m config_context(\n\u001B[1;32m   1147\u001B[0m     skip_parameter_validation\u001B[38;5;241m=\u001B[39m(\n\u001B[1;32m   1148\u001B[0m         prefer_skip_nested_validation \u001B[38;5;129;01mor\u001B[39;00m global_skip_validation\n\u001B[1;32m   1149\u001B[0m     )\n\u001B[1;32m   1150\u001B[0m ):\n\u001B[0;32m-> 1151\u001B[0m     \u001B[38;5;28;01mreturn\u001B[39;00m \u001B[43mfit_method\u001B[49m\u001B[43m(\u001B[49m\u001B[43mestimator\u001B[49m\u001B[43m,\u001B[49m\u001B[43m \u001B[49m\u001B[38;5;241;43m*\u001B[39;49m\u001B[43margs\u001B[49m\u001B[43m,\u001B[49m\u001B[43m \u001B[49m\u001B[38;5;241;43m*\u001B[39;49m\u001B[38;5;241;43m*\u001B[39;49m\u001B[43mkwargs\u001B[49m\u001B[43m)\u001B[49m\n",
      "File \u001B[0;32m~/Documents/Master Cybersecurity/First Semester/Traffic Monitor Analysis/Test/lib/python3.10/site-packages/sklearn/model_selection/_search.py:898\u001B[0m, in \u001B[0;36mBaseSearchCV.fit\u001B[0;34m(self, X, y, groups, **fit_params)\u001B[0m\n\u001B[1;32m    892\u001B[0m     results \u001B[38;5;241m=\u001B[39m \u001B[38;5;28mself\u001B[39m\u001B[38;5;241m.\u001B[39m_format_results(\n\u001B[1;32m    893\u001B[0m         all_candidate_params, n_splits, all_out, all_more_results\n\u001B[1;32m    894\u001B[0m     )\n\u001B[1;32m    896\u001B[0m     \u001B[38;5;28;01mreturn\u001B[39;00m results\n\u001B[0;32m--> 898\u001B[0m \u001B[38;5;28;43mself\u001B[39;49m\u001B[38;5;241;43m.\u001B[39;49m\u001B[43m_run_search\u001B[49m\u001B[43m(\u001B[49m\u001B[43mevaluate_candidates\u001B[49m\u001B[43m)\u001B[49m\n\u001B[1;32m    900\u001B[0m \u001B[38;5;66;03m# multimetric is determined here because in the case of a callable\u001B[39;00m\n\u001B[1;32m    901\u001B[0m \u001B[38;5;66;03m# self.scoring the return type is only known after calling\u001B[39;00m\n\u001B[1;32m    902\u001B[0m first_test_score \u001B[38;5;241m=\u001B[39m all_out[\u001B[38;5;241m0\u001B[39m][\u001B[38;5;124m\"\u001B[39m\u001B[38;5;124mtest_scores\u001B[39m\u001B[38;5;124m\"\u001B[39m]\n",
      "File \u001B[0;32m~/Documents/Master Cybersecurity/First Semester/Traffic Monitor Analysis/Test/lib/python3.10/site-packages/sklearn/model_selection/_search.py:1419\u001B[0m, in \u001B[0;36mGridSearchCV._run_search\u001B[0;34m(self, evaluate_candidates)\u001B[0m\n\u001B[1;32m   1417\u001B[0m \u001B[38;5;28;01mdef\u001B[39;00m \u001B[38;5;21m_run_search\u001B[39m(\u001B[38;5;28mself\u001B[39m, evaluate_candidates):\n\u001B[1;32m   1418\u001B[0m \u001B[38;5;250m    \u001B[39m\u001B[38;5;124;03m\"\"\"Search all candidates in param_grid\"\"\"\u001B[39;00m\n\u001B[0;32m-> 1419\u001B[0m     \u001B[43mevaluate_candidates\u001B[49m\u001B[43m(\u001B[49m\u001B[43mParameterGrid\u001B[49m\u001B[43m(\u001B[49m\u001B[38;5;28;43mself\u001B[39;49m\u001B[38;5;241;43m.\u001B[39;49m\u001B[43mparam_grid\u001B[49m\u001B[43m)\u001B[49m\u001B[43m)\u001B[49m\n",
      "File \u001B[0;32m~/Documents/Master Cybersecurity/First Semester/Traffic Monitor Analysis/Test/lib/python3.10/site-packages/sklearn/model_selection/_search.py:845\u001B[0m, in \u001B[0;36mBaseSearchCV.fit.<locals>.evaluate_candidates\u001B[0;34m(candidate_params, cv, more_results)\u001B[0m\n\u001B[1;32m    837\u001B[0m \u001B[38;5;28;01mif\u001B[39;00m \u001B[38;5;28mself\u001B[39m\u001B[38;5;241m.\u001B[39mverbose \u001B[38;5;241m>\u001B[39m \u001B[38;5;241m0\u001B[39m:\n\u001B[1;32m    838\u001B[0m     \u001B[38;5;28mprint\u001B[39m(\n\u001B[1;32m    839\u001B[0m         \u001B[38;5;124m\"\u001B[39m\u001B[38;5;124mFitting \u001B[39m\u001B[38;5;132;01m{0}\u001B[39;00m\u001B[38;5;124m folds for each of \u001B[39m\u001B[38;5;132;01m{1}\u001B[39;00m\u001B[38;5;124m candidates,\u001B[39m\u001B[38;5;124m\"\u001B[39m\n\u001B[1;32m    840\u001B[0m         \u001B[38;5;124m\"\u001B[39m\u001B[38;5;124m totalling \u001B[39m\u001B[38;5;132;01m{2}\u001B[39;00m\u001B[38;5;124m fits\u001B[39m\u001B[38;5;124m\"\u001B[39m\u001B[38;5;241m.\u001B[39mformat(\n\u001B[1;32m    841\u001B[0m             n_splits, n_candidates, n_candidates \u001B[38;5;241m*\u001B[39m n_splits\n\u001B[1;32m    842\u001B[0m         )\n\u001B[1;32m    843\u001B[0m     )\n\u001B[0;32m--> 845\u001B[0m out \u001B[38;5;241m=\u001B[39m \u001B[43mparallel\u001B[49m\u001B[43m(\u001B[49m\n\u001B[1;32m    846\u001B[0m \u001B[43m    \u001B[49m\u001B[43mdelayed\u001B[49m\u001B[43m(\u001B[49m\u001B[43m_fit_and_score\u001B[49m\u001B[43m)\u001B[49m\u001B[43m(\u001B[49m\n\u001B[1;32m    847\u001B[0m \u001B[43m        \u001B[49m\u001B[43mclone\u001B[49m\u001B[43m(\u001B[49m\u001B[43mbase_estimator\u001B[49m\u001B[43m)\u001B[49m\u001B[43m,\u001B[49m\n\u001B[1;32m    848\u001B[0m \u001B[43m        \u001B[49m\u001B[43mX\u001B[49m\u001B[43m,\u001B[49m\n\u001B[1;32m    849\u001B[0m \u001B[43m        \u001B[49m\u001B[43my\u001B[49m\u001B[43m,\u001B[49m\n\u001B[1;32m    850\u001B[0m \u001B[43m        \u001B[49m\u001B[43mtrain\u001B[49m\u001B[38;5;241;43m=\u001B[39;49m\u001B[43mtrain\u001B[49m\u001B[43m,\u001B[49m\n\u001B[1;32m    851\u001B[0m \u001B[43m        \u001B[49m\u001B[43mtest\u001B[49m\u001B[38;5;241;43m=\u001B[39;49m\u001B[43mtest\u001B[49m\u001B[43m,\u001B[49m\n\u001B[1;32m    852\u001B[0m \u001B[43m        \u001B[49m\u001B[43mparameters\u001B[49m\u001B[38;5;241;43m=\u001B[39;49m\u001B[43mparameters\u001B[49m\u001B[43m,\u001B[49m\n\u001B[1;32m    853\u001B[0m \u001B[43m        \u001B[49m\u001B[43msplit_progress\u001B[49m\u001B[38;5;241;43m=\u001B[39;49m\u001B[43m(\u001B[49m\u001B[43msplit_idx\u001B[49m\u001B[43m,\u001B[49m\u001B[43m \u001B[49m\u001B[43mn_splits\u001B[49m\u001B[43m)\u001B[49m\u001B[43m,\u001B[49m\n\u001B[1;32m    854\u001B[0m \u001B[43m        \u001B[49m\u001B[43mcandidate_progress\u001B[49m\u001B[38;5;241;43m=\u001B[39;49m\u001B[43m(\u001B[49m\u001B[43mcand_idx\u001B[49m\u001B[43m,\u001B[49m\u001B[43m \u001B[49m\u001B[43mn_candidates\u001B[49m\u001B[43m)\u001B[49m\u001B[43m,\u001B[49m\n\u001B[1;32m    855\u001B[0m \u001B[43m        \u001B[49m\u001B[38;5;241;43m*\u001B[39;49m\u001B[38;5;241;43m*\u001B[39;49m\u001B[43mfit_and_score_kwargs\u001B[49m\u001B[43m,\u001B[49m\n\u001B[1;32m    856\u001B[0m \u001B[43m    \u001B[49m\u001B[43m)\u001B[49m\n\u001B[1;32m    857\u001B[0m \u001B[43m    \u001B[49m\u001B[38;5;28;43;01mfor\u001B[39;49;00m\u001B[43m \u001B[49m\u001B[43m(\u001B[49m\u001B[43mcand_idx\u001B[49m\u001B[43m,\u001B[49m\u001B[43m \u001B[49m\u001B[43mparameters\u001B[49m\u001B[43m)\u001B[49m\u001B[43m,\u001B[49m\u001B[43m \u001B[49m\u001B[43m(\u001B[49m\u001B[43msplit_idx\u001B[49m\u001B[43m,\u001B[49m\u001B[43m \u001B[49m\u001B[43m(\u001B[49m\u001B[43mtrain\u001B[49m\u001B[43m,\u001B[49m\u001B[43m \u001B[49m\u001B[43mtest\u001B[49m\u001B[43m)\u001B[49m\u001B[43m)\u001B[49m\u001B[43m \u001B[49m\u001B[38;5;129;43;01min\u001B[39;49;00m\u001B[43m \u001B[49m\u001B[43mproduct\u001B[49m\u001B[43m(\u001B[49m\n\u001B[1;32m    858\u001B[0m \u001B[43m        \u001B[49m\u001B[38;5;28;43menumerate\u001B[39;49m\u001B[43m(\u001B[49m\u001B[43mcandidate_params\u001B[49m\u001B[43m)\u001B[49m\u001B[43m,\u001B[49m\u001B[43m \u001B[49m\u001B[38;5;28;43menumerate\u001B[39;49m\u001B[43m(\u001B[49m\u001B[43mcv\u001B[49m\u001B[38;5;241;43m.\u001B[39;49m\u001B[43msplit\u001B[49m\u001B[43m(\u001B[49m\u001B[43mX\u001B[49m\u001B[43m,\u001B[49m\u001B[43m \u001B[49m\u001B[43my\u001B[49m\u001B[43m,\u001B[49m\u001B[43m \u001B[49m\u001B[43mgroups\u001B[49m\u001B[43m)\u001B[49m\u001B[43m)\u001B[49m\n\u001B[1;32m    859\u001B[0m \u001B[43m    \u001B[49m\u001B[43m)\u001B[49m\n\u001B[1;32m    860\u001B[0m \u001B[43m\u001B[49m\u001B[43m)\u001B[49m\n\u001B[1;32m    862\u001B[0m \u001B[38;5;28;01mif\u001B[39;00m \u001B[38;5;28mlen\u001B[39m(out) \u001B[38;5;241m<\u001B[39m \u001B[38;5;241m1\u001B[39m:\n\u001B[1;32m    863\u001B[0m     \u001B[38;5;28;01mraise\u001B[39;00m \u001B[38;5;167;01mValueError\u001B[39;00m(\n\u001B[1;32m    864\u001B[0m         \u001B[38;5;124m\"\u001B[39m\u001B[38;5;124mNo fits were performed. \u001B[39m\u001B[38;5;124m\"\u001B[39m\n\u001B[1;32m    865\u001B[0m         \u001B[38;5;124m\"\u001B[39m\u001B[38;5;124mWas the CV iterator empty? \u001B[39m\u001B[38;5;124m\"\u001B[39m\n\u001B[1;32m    866\u001B[0m         \u001B[38;5;124m\"\u001B[39m\u001B[38;5;124mWere there no candidates?\u001B[39m\u001B[38;5;124m\"\u001B[39m\n\u001B[1;32m    867\u001B[0m     )\n",
      "File \u001B[0;32m~/Documents/Master Cybersecurity/First Semester/Traffic Monitor Analysis/Test/lib/python3.10/site-packages/sklearn/utils/parallel.py:65\u001B[0m, in \u001B[0;36mParallel.__call__\u001B[0;34m(self, iterable)\u001B[0m\n\u001B[1;32m     60\u001B[0m config \u001B[38;5;241m=\u001B[39m get_config()\n\u001B[1;32m     61\u001B[0m iterable_with_config \u001B[38;5;241m=\u001B[39m (\n\u001B[1;32m     62\u001B[0m     (_with_config(delayed_func, config), args, kwargs)\n\u001B[1;32m     63\u001B[0m     \u001B[38;5;28;01mfor\u001B[39;00m delayed_func, args, kwargs \u001B[38;5;129;01min\u001B[39;00m iterable\n\u001B[1;32m     64\u001B[0m )\n\u001B[0;32m---> 65\u001B[0m \u001B[38;5;28;01mreturn\u001B[39;00m \u001B[38;5;28;43msuper\u001B[39;49m\u001B[43m(\u001B[49m\u001B[43m)\u001B[49m\u001B[38;5;241;43m.\u001B[39;49m\u001B[38;5;21;43m__call__\u001B[39;49m\u001B[43m(\u001B[49m\u001B[43miterable_with_config\u001B[49m\u001B[43m)\u001B[49m\n",
      "File \u001B[0;32m~/Documents/Master Cybersecurity/First Semester/Traffic Monitor Analysis/Test/lib/python3.10/site-packages/joblib/parallel.py:2007\u001B[0m, in \u001B[0;36mParallel.__call__\u001B[0;34m(self, iterable)\u001B[0m\n\u001B[1;32m   2001\u001B[0m \u001B[38;5;66;03m# The first item from the output is blank, but it makes the interpreter\u001B[39;00m\n\u001B[1;32m   2002\u001B[0m \u001B[38;5;66;03m# progress until it enters the Try/Except block of the generator and\u001B[39;00m\n\u001B[1;32m   2003\u001B[0m \u001B[38;5;66;03m# reaches the first `yield` statement. This starts the asynchronous\u001B[39;00m\n\u001B[1;32m   2004\u001B[0m \u001B[38;5;66;03m# dispatch of the tasks to the workers.\u001B[39;00m\n\u001B[1;32m   2005\u001B[0m \u001B[38;5;28mnext\u001B[39m(output)\n\u001B[0;32m-> 2007\u001B[0m \u001B[38;5;28;01mreturn\u001B[39;00m output \u001B[38;5;28;01mif\u001B[39;00m \u001B[38;5;28mself\u001B[39m\u001B[38;5;241m.\u001B[39mreturn_generator \u001B[38;5;28;01melse\u001B[39;00m \u001B[38;5;28;43mlist\u001B[39;49m\u001B[43m(\u001B[49m\u001B[43moutput\u001B[49m\u001B[43m)\u001B[49m\n",
      "File \u001B[0;32m~/Documents/Master Cybersecurity/First Semester/Traffic Monitor Analysis/Test/lib/python3.10/site-packages/joblib/parallel.py:1650\u001B[0m, in \u001B[0;36mParallel._get_outputs\u001B[0;34m(self, iterator, pre_dispatch)\u001B[0m\n\u001B[1;32m   1647\u001B[0m     \u001B[38;5;28;01myield\u001B[39;00m\n\u001B[1;32m   1649\u001B[0m     \u001B[38;5;28;01mwith\u001B[39;00m \u001B[38;5;28mself\u001B[39m\u001B[38;5;241m.\u001B[39m_backend\u001B[38;5;241m.\u001B[39mretrieval_context():\n\u001B[0;32m-> 1650\u001B[0m         \u001B[38;5;28;01myield from\u001B[39;00m \u001B[38;5;28mself\u001B[39m\u001B[38;5;241m.\u001B[39m_retrieve()\n\u001B[1;32m   1652\u001B[0m \u001B[38;5;28;01mexcept\u001B[39;00m \u001B[38;5;167;01mGeneratorExit\u001B[39;00m:\n\u001B[1;32m   1653\u001B[0m     \u001B[38;5;66;03m# The generator has been garbage collected before being fully\u001B[39;00m\n\u001B[1;32m   1654\u001B[0m     \u001B[38;5;66;03m# consumed. This aborts the remaining tasks if possible and warn\u001B[39;00m\n\u001B[1;32m   1655\u001B[0m     \u001B[38;5;66;03m# the user if necessary.\u001B[39;00m\n\u001B[1;32m   1656\u001B[0m     \u001B[38;5;28mself\u001B[39m\u001B[38;5;241m.\u001B[39m_exception \u001B[38;5;241m=\u001B[39m \u001B[38;5;28;01mTrue\u001B[39;00m\n",
      "File \u001B[0;32m~/Documents/Master Cybersecurity/First Semester/Traffic Monitor Analysis/Test/lib/python3.10/site-packages/joblib/parallel.py:1762\u001B[0m, in \u001B[0;36mParallel._retrieve\u001B[0;34m(self)\u001B[0m\n\u001B[1;32m   1757\u001B[0m \u001B[38;5;66;03m# If the next job is not ready for retrieval yet, we just wait for\u001B[39;00m\n\u001B[1;32m   1758\u001B[0m \u001B[38;5;66;03m# async callbacks to progress.\u001B[39;00m\n\u001B[1;32m   1759\u001B[0m \u001B[38;5;28;01mif\u001B[39;00m ((\u001B[38;5;28mlen\u001B[39m(\u001B[38;5;28mself\u001B[39m\u001B[38;5;241m.\u001B[39m_jobs) \u001B[38;5;241m==\u001B[39m \u001B[38;5;241m0\u001B[39m) \u001B[38;5;129;01mor\u001B[39;00m\n\u001B[1;32m   1760\u001B[0m     (\u001B[38;5;28mself\u001B[39m\u001B[38;5;241m.\u001B[39m_jobs[\u001B[38;5;241m0\u001B[39m]\u001B[38;5;241m.\u001B[39mget_status(\n\u001B[1;32m   1761\u001B[0m         timeout\u001B[38;5;241m=\u001B[39m\u001B[38;5;28mself\u001B[39m\u001B[38;5;241m.\u001B[39mtimeout) \u001B[38;5;241m==\u001B[39m TASK_PENDING)):\n\u001B[0;32m-> 1762\u001B[0m     \u001B[43mtime\u001B[49m\u001B[38;5;241;43m.\u001B[39;49m\u001B[43msleep\u001B[49m\u001B[43m(\u001B[49m\u001B[38;5;241;43m0.01\u001B[39;49m\u001B[43m)\u001B[49m\n\u001B[1;32m   1763\u001B[0m     \u001B[38;5;28;01mcontinue\u001B[39;00m\n\u001B[1;32m   1765\u001B[0m \u001B[38;5;66;03m# We need to be careful: the job list can be filling up as\u001B[39;00m\n\u001B[1;32m   1766\u001B[0m \u001B[38;5;66;03m# we empty it and Python list are not thread-safe by\u001B[39;00m\n\u001B[1;32m   1767\u001B[0m \u001B[38;5;66;03m# default hence the use of the lock\u001B[39;00m\n",
      "\u001B[0;31mKeyboardInterrupt\u001B[0m: "
     ]
    }
   ],
   "source": [
    "from sklearn.model_selection import StratifiedKFold, cross_val_score, GridSearchCV\n",
    "from sklearn.ensemble import RandomForestClassifier\n",
    "from sklearn.metrics import accuracy_score\n",
    "import numpy as np\n",
    "\n",
    "# Initialize the outer cross-validation\n",
    "outer_cv = StratifiedKFold(n_splits=5, shuffle=True, random_state=42)\n",
    "\n",
    "# Define parameter grid for Random Forest hyperparameter tuning\n",
    "param_grid = {\n",
    "    'n_estimators': [50, 100, 200],\n",
    "    'max_depth': [None, 10, 20, 30],\n",
    "    'min_samples_split': [2, 5, 10],\n",
    "    'min_samples_leaf': [1, 2, 4],\n",
    "    'max_features': ['sqrt', 'log2']\n",
    "}\n",
    "\n",
    "# List to hold the accuracy scores from the outer CV loop\n",
    "outer_scores = []\n",
    "\n",
    "# Outer cross-validation loop\n",
    "for train_idx, test_idx in outer_cv.split(X, y):\n",
    "    X_train, X_test = X.values[train_idx], X.values[test_idx]\n",
    "    y_train, y_test = y[train_idx], y[test_idx]\n",
    "\n",
    "    # Define inner cross-validation for hyperparameter tuning\n",
    "    inner_cv = StratifiedKFold(n_splits=3, shuffle=True, random_state=42)\n",
    "\n",
    "    # Initialize Random Forest model\n",
    "    rf_model = RandomForestClassifier(random_state=42)\n",
    "\n",
    "    # GridSearchCV for hyperparameter tuning within the inner CV loop\n",
    "    grid_search = GridSearchCV(\n",
    "        estimator=rf_model,\n",
    "        param_grid=param_grid,\n",
    "        cv=inner_cv,\n",
    "        scoring='accuracy',\n",
    "        n_jobs=-1\n",
    "    )\n",
    "\n",
    "    # Fit GridSearchCV on the training data of the current outer fold\n",
    "    grid_search.fit(X_train, y_train)\n",
    "\n",
    "    # Select the best model from the inner CV tuning\n",
    "    best_model = grid_search.best_estimator_\n",
    "\n",
    "    # Evaluate the best model on the outer fold test set\n",
    "    y_pred = best_model.predict(X_test)\n",
    "    outer_accuracy = accuracy_score(y_test, y_pred)\n",
    "    outer_scores.append(outer_accuracy)\n",
    "\n",
    "    print(f\"Best hyperparameters for this fold: {grid_search.best_params_}\")\n",
    "    print(f\"Accuracy for this fold: {outer_accuracy}\")\n",
    "\n",
    "# Calculate and print the final results from the outer cross-validation loop\n",
    "print(\"\\nCross-validated outer accuracy scores:\", outer_scores)\n",
    "print(\"Mean accuracy:\", np.mean(outer_scores))\n",
    "print(\"Standard deviation of accuracy:\", np.std(outer_scores))"
   ],
   "metadata": {
    "collapsed": false
   }
  },
  {
   "cell_type": "code",
   "execution_count": null,
   "outputs": [],
   "source": [],
   "metadata": {
    "collapsed": false
   }
  }
 ],
 "metadata": {
  "kernelspec": {
   "display_name": "Python 3",
   "language": "python",
   "name": "python3"
  },
  "language_info": {
   "codemirror_mode": {
    "name": "ipython",
    "version": 3
   },
   "file_extension": ".py",
   "mimetype": "text/x-python",
   "name": "python",
   "nbconvert_exporter": "python",
   "pygments_lexer": "ipython3",
   "version": "3.9.0"
  }
 },
 "nbformat": 4,
 "nbformat_minor": 2
}
