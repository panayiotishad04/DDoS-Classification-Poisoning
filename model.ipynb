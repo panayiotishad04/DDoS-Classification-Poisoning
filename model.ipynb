{
 "cells": [
  {
   "cell_type": "code",
   "execution_count": 1,
   "metadata": {},
   "outputs": [],
   "source": [
    "from sklearn.model_selection import train_test_split\n",
    "import pandas as pd "
   ]
  },
  {
   "cell_type": "code",
   "execution_count": 2,
   "metadata": {},
   "outputs": [],
   "source": [
    "pd.set_option('display.max_columns', None)  # Show all columns"
   ]
  },
  {
   "cell_type": "code",
   "execution_count": 3,
   "metadata": {},
   "outputs": [
    {
     "name": "stderr",
     "output_type": "stream",
     "text": [
      "/var/folders/nj/scyrvwln431b58h3d50x1v600000gn/T/ipykernel_22391/3977034436.py:1: DtypeWarning: Columns (8,9,10) have mixed types. Specify dtype option on import or set low_memory=False.\n",
      "  df_ddos = pd.read_csv(\"dataset/normal_dataset/Only_DDOS.csv\",delimiter=\",\")\n"
     ]
    },
    {
     "data": {
      "text/plain": "              ts_time          uid_string   id.orig_addr  id.orig_port  \\\n0        1.545452e+09  CmgfaE2BlYQZWKNgy4  192.168.1.196         17217   \n1        1.545452e+09  CdUEGF3LGSzBEIkmZb  192.168.1.196         61635   \n2        1.545452e+09  CxLtJA4HoDhofMacqi  192.168.1.196         28115   \n3        1.545452e+09   CpDo1ucqUWa1TriGj  192.168.1.196         42776   \n4        1.545452e+09  CPUivV3glDIFZfYDK7  192.168.1.196         57665   \n...               ...                 ...            ...           ...   \n2185297  1.545477e+09  CjYmd14eKgtnCFh1Ye  192.168.1.196         53686   \n2185298  1.545477e+09   C2WkTRVpaV4yoRLS1  192.168.1.196         56562   \n2185299  1.545477e+09   CVdNobsaAanxpggxf  192.168.1.196         56562   \n2185300  1.545477e+09  CRs9Lf4TY3Qr9V0vta  192.168.1.196         56562   \n2185301  1.545477e+09  C9idx83TKMLu8dQRU4  192.168.1.196         56562   \n\n          id.resp_haddr  id.resp_pport proto_enum service_string  \\\n0        209.97.190.136             80        tcp              -   \n1        209.97.190.136             80        tcp              -   \n2        209.97.190.136             80        tcp              -   \n3        209.97.190.136             80        tcp              -   \n4        209.97.190.136             80        tcp              -   \n...                 ...            ...        ...            ...   \n2185297   216.18.168.16            443        tcp            ssl   \n2185298   216.18.168.16             80        tcp              -   \n2185299   216.18.168.16             80        tcp              -   \n2185300   216.18.168.16             80        tcp              -   \n2185301   216.18.168.16             80        tcp              -   \n\n        duration_interval orig_bytes_count resp_bytes_count conn_state_string  \\\n0                2.336936                0                0            RSTOS0   \n1                3.356312                0                0            RSTOS0   \n2                       -                -                -            RSTOS0   \n3                3.973249                0                0            RSTOS0   \n4                3.823055                0                0            RSTOS0   \n...                   ...              ...              ...               ...   \n2185297          4.285068              555           386308                SF   \n2185298                 -                -                -                SH   \n2185299                 -                -                -                SH   \n2185300                 -                -                -                SH   \n2185301                 -                -                -                SH   \n\n        local_orig_bool local_resp_bool  missed_bytes_count history_string  \\\n0                     -               -                   0              I   \n1                     -               -                   0              I   \n2                     -               -                   0              I   \n3                     -               -                   0              I   \n4                     -               -                   0              I   \n...                 ...             ...                 ...            ...   \n2185297               -               -                5792    ShADdtatFfR   \n2185298               -               -                   0              F   \n2185299               -               -                   0              F   \n2185300               -               -                   0              F   \n2185301               -               -                   0              F   \n\n         orig_pkts_count  orig_ip_bytes_count  resp_pkts_count  resp_bytes  \\\n0                      2                   80                0           0   \n1                      3                  120                0           0   \n2                      1                   40                0           0   \n3                      4                  160                0           0   \n4                      3                  120                0           0   \n...                  ...                  ...              ...         ...   \n2185297              270                17294              275      404960   \n2185298                1                   52                0           0   \n2185299                1                   52                0           0   \n2185300                1                   52                0           0   \n2185301                1                   52                0           0   \n\n        tunnel   Category Category-detail  \n0            -  Malicious            DDoS  \n1            -  Malicious            DDoS  \n2            -  Malicious            DDoS  \n3            -  Malicious            DDoS  \n4            -  Malicious            DDoS  \n...        ...        ...             ...  \n2185297      -  Malicious            DDoS  \n2185298      -  Malicious            DDoS  \n2185299      -  Malicious            DDoS  \n2185300      -  Malicious            DDoS  \n2185301      -  Malicious            DDoS  \n\n[2185302 rows x 23 columns]",
      "text/html": "<div>\n<style scoped>\n    .dataframe tbody tr th:only-of-type {\n        vertical-align: middle;\n    }\n\n    .dataframe tbody tr th {\n        vertical-align: top;\n    }\n\n    .dataframe thead th {\n        text-align: right;\n    }\n</style>\n<table border=\"1\" class=\"dataframe\">\n  <thead>\n    <tr style=\"text-align: right;\">\n      <th></th>\n      <th>ts_time</th>\n      <th>uid_string</th>\n      <th>id.orig_addr</th>\n      <th>id.orig_port</th>\n      <th>id.resp_haddr</th>\n      <th>id.resp_pport</th>\n      <th>proto_enum</th>\n      <th>service_string</th>\n      <th>duration_interval</th>\n      <th>orig_bytes_count</th>\n      <th>resp_bytes_count</th>\n      <th>conn_state_string</th>\n      <th>local_orig_bool</th>\n      <th>local_resp_bool</th>\n      <th>missed_bytes_count</th>\n      <th>history_string</th>\n      <th>orig_pkts_count</th>\n      <th>orig_ip_bytes_count</th>\n      <th>resp_pkts_count</th>\n      <th>resp_bytes</th>\n      <th>tunnel</th>\n      <th>Category</th>\n      <th>Category-detail</th>\n    </tr>\n  </thead>\n  <tbody>\n    <tr>\n      <th>0</th>\n      <td>1.545452e+09</td>\n      <td>CmgfaE2BlYQZWKNgy4</td>\n      <td>192.168.1.196</td>\n      <td>17217</td>\n      <td>209.97.190.136</td>\n      <td>80</td>\n      <td>tcp</td>\n      <td>-</td>\n      <td>2.336936</td>\n      <td>0</td>\n      <td>0</td>\n      <td>RSTOS0</td>\n      <td>-</td>\n      <td>-</td>\n      <td>0</td>\n      <td>I</td>\n      <td>2</td>\n      <td>80</td>\n      <td>0</td>\n      <td>0</td>\n      <td>-</td>\n      <td>Malicious</td>\n      <td>DDoS</td>\n    </tr>\n    <tr>\n      <th>1</th>\n      <td>1.545452e+09</td>\n      <td>CdUEGF3LGSzBEIkmZb</td>\n      <td>192.168.1.196</td>\n      <td>61635</td>\n      <td>209.97.190.136</td>\n      <td>80</td>\n      <td>tcp</td>\n      <td>-</td>\n      <td>3.356312</td>\n      <td>0</td>\n      <td>0</td>\n      <td>RSTOS0</td>\n      <td>-</td>\n      <td>-</td>\n      <td>0</td>\n      <td>I</td>\n      <td>3</td>\n      <td>120</td>\n      <td>0</td>\n      <td>0</td>\n      <td>-</td>\n      <td>Malicious</td>\n      <td>DDoS</td>\n    </tr>\n    <tr>\n      <th>2</th>\n      <td>1.545452e+09</td>\n      <td>CxLtJA4HoDhofMacqi</td>\n      <td>192.168.1.196</td>\n      <td>28115</td>\n      <td>209.97.190.136</td>\n      <td>80</td>\n      <td>tcp</td>\n      <td>-</td>\n      <td>-</td>\n      <td>-</td>\n      <td>-</td>\n      <td>RSTOS0</td>\n      <td>-</td>\n      <td>-</td>\n      <td>0</td>\n      <td>I</td>\n      <td>1</td>\n      <td>40</td>\n      <td>0</td>\n      <td>0</td>\n      <td>-</td>\n      <td>Malicious</td>\n      <td>DDoS</td>\n    </tr>\n    <tr>\n      <th>3</th>\n      <td>1.545452e+09</td>\n      <td>CpDo1ucqUWa1TriGj</td>\n      <td>192.168.1.196</td>\n      <td>42776</td>\n      <td>209.97.190.136</td>\n      <td>80</td>\n      <td>tcp</td>\n      <td>-</td>\n      <td>3.973249</td>\n      <td>0</td>\n      <td>0</td>\n      <td>RSTOS0</td>\n      <td>-</td>\n      <td>-</td>\n      <td>0</td>\n      <td>I</td>\n      <td>4</td>\n      <td>160</td>\n      <td>0</td>\n      <td>0</td>\n      <td>-</td>\n      <td>Malicious</td>\n      <td>DDoS</td>\n    </tr>\n    <tr>\n      <th>4</th>\n      <td>1.545452e+09</td>\n      <td>CPUivV3glDIFZfYDK7</td>\n      <td>192.168.1.196</td>\n      <td>57665</td>\n      <td>209.97.190.136</td>\n      <td>80</td>\n      <td>tcp</td>\n      <td>-</td>\n      <td>3.823055</td>\n      <td>0</td>\n      <td>0</td>\n      <td>RSTOS0</td>\n      <td>-</td>\n      <td>-</td>\n      <td>0</td>\n      <td>I</td>\n      <td>3</td>\n      <td>120</td>\n      <td>0</td>\n      <td>0</td>\n      <td>-</td>\n      <td>Malicious</td>\n      <td>DDoS</td>\n    </tr>\n    <tr>\n      <th>...</th>\n      <td>...</td>\n      <td>...</td>\n      <td>...</td>\n      <td>...</td>\n      <td>...</td>\n      <td>...</td>\n      <td>...</td>\n      <td>...</td>\n      <td>...</td>\n      <td>...</td>\n      <td>...</td>\n      <td>...</td>\n      <td>...</td>\n      <td>...</td>\n      <td>...</td>\n      <td>...</td>\n      <td>...</td>\n      <td>...</td>\n      <td>...</td>\n      <td>...</td>\n      <td>...</td>\n      <td>...</td>\n      <td>...</td>\n    </tr>\n    <tr>\n      <th>2185297</th>\n      <td>1.545477e+09</td>\n      <td>CjYmd14eKgtnCFh1Ye</td>\n      <td>192.168.1.196</td>\n      <td>53686</td>\n      <td>216.18.168.16</td>\n      <td>443</td>\n      <td>tcp</td>\n      <td>ssl</td>\n      <td>4.285068</td>\n      <td>555</td>\n      <td>386308</td>\n      <td>SF</td>\n      <td>-</td>\n      <td>-</td>\n      <td>5792</td>\n      <td>ShADdtatFfR</td>\n      <td>270</td>\n      <td>17294</td>\n      <td>275</td>\n      <td>404960</td>\n      <td>-</td>\n      <td>Malicious</td>\n      <td>DDoS</td>\n    </tr>\n    <tr>\n      <th>2185298</th>\n      <td>1.545477e+09</td>\n      <td>C2WkTRVpaV4yoRLS1</td>\n      <td>192.168.1.196</td>\n      <td>56562</td>\n      <td>216.18.168.16</td>\n      <td>80</td>\n      <td>tcp</td>\n      <td>-</td>\n      <td>-</td>\n      <td>-</td>\n      <td>-</td>\n      <td>SH</td>\n      <td>-</td>\n      <td>-</td>\n      <td>0</td>\n      <td>F</td>\n      <td>1</td>\n      <td>52</td>\n      <td>0</td>\n      <td>0</td>\n      <td>-</td>\n      <td>Malicious</td>\n      <td>DDoS</td>\n    </tr>\n    <tr>\n      <th>2185299</th>\n      <td>1.545477e+09</td>\n      <td>CVdNobsaAanxpggxf</td>\n      <td>192.168.1.196</td>\n      <td>56562</td>\n      <td>216.18.168.16</td>\n      <td>80</td>\n      <td>tcp</td>\n      <td>-</td>\n      <td>-</td>\n      <td>-</td>\n      <td>-</td>\n      <td>SH</td>\n      <td>-</td>\n      <td>-</td>\n      <td>0</td>\n      <td>F</td>\n      <td>1</td>\n      <td>52</td>\n      <td>0</td>\n      <td>0</td>\n      <td>-</td>\n      <td>Malicious</td>\n      <td>DDoS</td>\n    </tr>\n    <tr>\n      <th>2185300</th>\n      <td>1.545477e+09</td>\n      <td>CRs9Lf4TY3Qr9V0vta</td>\n      <td>192.168.1.196</td>\n      <td>56562</td>\n      <td>216.18.168.16</td>\n      <td>80</td>\n      <td>tcp</td>\n      <td>-</td>\n      <td>-</td>\n      <td>-</td>\n      <td>-</td>\n      <td>SH</td>\n      <td>-</td>\n      <td>-</td>\n      <td>0</td>\n      <td>F</td>\n      <td>1</td>\n      <td>52</td>\n      <td>0</td>\n      <td>0</td>\n      <td>-</td>\n      <td>Malicious</td>\n      <td>DDoS</td>\n    </tr>\n    <tr>\n      <th>2185301</th>\n      <td>1.545477e+09</td>\n      <td>C9idx83TKMLu8dQRU4</td>\n      <td>192.168.1.196</td>\n      <td>56562</td>\n      <td>216.18.168.16</td>\n      <td>80</td>\n      <td>tcp</td>\n      <td>-</td>\n      <td>-</td>\n      <td>-</td>\n      <td>-</td>\n      <td>SH</td>\n      <td>-</td>\n      <td>-</td>\n      <td>0</td>\n      <td>F</td>\n      <td>1</td>\n      <td>52</td>\n      <td>0</td>\n      <td>0</td>\n      <td>-</td>\n      <td>Malicious</td>\n      <td>DDoS</td>\n    </tr>\n  </tbody>\n</table>\n<p>2185302 rows × 23 columns</p>\n</div>"
     },
     "execution_count": 3,
     "metadata": {},
     "output_type": "execute_result"
    }
   ],
   "source": [
    "df_ddos = pd.read_csv(\"dataset/normal_dataset/Only_DDOS.csv\",delimiter=\",\")\n",
    "df_ddos"
   ]
  },
  {
   "cell_type": "code",
   "execution_count": 4,
   "metadata": {},
   "outputs": [
    {
     "data": {
      "text/plain": "              ts_time          uid_string    id.orig_addr  id.orig_port  \\\n0        1.545403e+09  CDn2pd1rDD1lCMXAia   192.168.1.196         35883   \n1        1.545403e+09  C1NKkV3tB4rImzbpDj   192.168.1.196         43531   \n2        1.545403e+09   Cxoiu11zgEdj4MX27   192.168.1.196         39189   \n3        1.545403e+09  ChlyUB4IKofHtlEFO1   192.168.1.196           123   \n4        1.545403e+09  CgEG202REue0at76Je   192.168.1.196           123   \n...               ...                 ...             ...           ...   \n8262384  1.545489e+09  COBDPD3KxUR6kHRFd6   192.168.1.196         54034   \n8262385  1.545489e+09  ClB8ai4Qrd9327GNH1   192.168.1.196         38638   \n8262386  1.545487e+09   C7tILLtahZJ95prY2   192.168.1.196         41504   \n8262387  1.545489e+09  CKyW4U3CKnNv9iyzV2   192.168.1.196           123   \n8262388  1.545489e+09  CX5bG81XCH2suiPkO7  200.170.187.33             3   \n\n           id.resp_haddr  id.resp_pport proto_enum service_string  \\\n0            192.168.1.1             53        udp            dns   \n1            192.168.1.1             53        udp            dns   \n2            192.168.1.1             53        udp            dns   \n3         89.221.210.188            123        udp              -   \n4            31.31.74.35            123        udp              -   \n...                  ...            ...        ...            ...   \n8262384  243.173.162.237             23        tcp              -   \n8262385  115.129.182.143             23        tcp              -   \n8262386  117.104.129.195             23        tcp              -   \n8262387   89.221.210.188            123        udp              -   \n8262388    192.168.1.196              1       icmp              -   \n\n        duration_interval orig_bytes_count resp_bytes_count conn_state_string  \\\n0                5.005148               78                0                S0   \n1                5.005145               78                0                S0   \n2                5.005149               78                0                S0   \n3                0.143648               48               48                SF   \n4                0.004481               48               48                SF   \n...                   ...              ...              ...               ...   \n8262384                 -                -                -                S0   \n8262385        144.578522                0                0                S2   \n8262386        188.159685                0                0                S1   \n8262387                 -                -                -                S0   \n8262388                 -                -                -               OTH   \n\n        local_orig_bool local_resp_bool  missed_bytes_count history_string  \\\n0                     -               -                   0              D   \n1                     -               -                   0              D   \n2                     -               -                   0              D   \n3                     -               -                   0             Dd   \n4                     -               -                   0             Dd   \n...                 ...             ...                 ...            ...   \n8262384               -               -                   0              S   \n8262385               -               -                   0           ShAF   \n8262386               -               -                   0           ShwA   \n8262387               -               -                   0              D   \n8262388               -               -                   0              -   \n\n         orig_pkts_count  orig_ip_bytes_count  resp_pkts_count  resp_bytes  \\\n0                      2                  134                0           0   \n1                      2                  134                0           0   \n2                      2                  134                0           0   \n3                      1                   76                1          76   \n4                      1                   76                1          76   \n...                  ...                  ...              ...         ...   \n8262384                1                   60                0           0   \n8262385               10                  460                1          44   \n8262386                5                  220                1          44   \n8262387                1                   76                0           0   \n8262388                1                   88                0           0   \n\n        tunnel Category Category-detail  \n0            -   Benign               -  \n1            -   Benign               -  \n2            -   Benign               -  \n3            -   Benign               -  \n4            -   Benign               -  \n...        ...      ...             ...  \n8262384      -   Benign               -  \n8262385      -   Benign               -  \n8262386      -   Benign               -  \n8262387      -   Benign               -  \n8262388      -   Benign               -  \n\n[8262389 rows x 23 columns]",
      "text/html": "<div>\n<style scoped>\n    .dataframe tbody tr th:only-of-type {\n        vertical-align: middle;\n    }\n\n    .dataframe tbody tr th {\n        vertical-align: top;\n    }\n\n    .dataframe thead th {\n        text-align: right;\n    }\n</style>\n<table border=\"1\" class=\"dataframe\">\n  <thead>\n    <tr style=\"text-align: right;\">\n      <th></th>\n      <th>ts_time</th>\n      <th>uid_string</th>\n      <th>id.orig_addr</th>\n      <th>id.orig_port</th>\n      <th>id.resp_haddr</th>\n      <th>id.resp_pport</th>\n      <th>proto_enum</th>\n      <th>service_string</th>\n      <th>duration_interval</th>\n      <th>orig_bytes_count</th>\n      <th>resp_bytes_count</th>\n      <th>conn_state_string</th>\n      <th>local_orig_bool</th>\n      <th>local_resp_bool</th>\n      <th>missed_bytes_count</th>\n      <th>history_string</th>\n      <th>orig_pkts_count</th>\n      <th>orig_ip_bytes_count</th>\n      <th>resp_pkts_count</th>\n      <th>resp_bytes</th>\n      <th>tunnel</th>\n      <th>Category</th>\n      <th>Category-detail</th>\n    </tr>\n  </thead>\n  <tbody>\n    <tr>\n      <th>0</th>\n      <td>1.545403e+09</td>\n      <td>CDn2pd1rDD1lCMXAia</td>\n      <td>192.168.1.196</td>\n      <td>35883</td>\n      <td>192.168.1.1</td>\n      <td>53</td>\n      <td>udp</td>\n      <td>dns</td>\n      <td>5.005148</td>\n      <td>78</td>\n      <td>0</td>\n      <td>S0</td>\n      <td>-</td>\n      <td>-</td>\n      <td>0</td>\n      <td>D</td>\n      <td>2</td>\n      <td>134</td>\n      <td>0</td>\n      <td>0</td>\n      <td>-</td>\n      <td>Benign</td>\n      <td>-</td>\n    </tr>\n    <tr>\n      <th>1</th>\n      <td>1.545403e+09</td>\n      <td>C1NKkV3tB4rImzbpDj</td>\n      <td>192.168.1.196</td>\n      <td>43531</td>\n      <td>192.168.1.1</td>\n      <td>53</td>\n      <td>udp</td>\n      <td>dns</td>\n      <td>5.005145</td>\n      <td>78</td>\n      <td>0</td>\n      <td>S0</td>\n      <td>-</td>\n      <td>-</td>\n      <td>0</td>\n      <td>D</td>\n      <td>2</td>\n      <td>134</td>\n      <td>0</td>\n      <td>0</td>\n      <td>-</td>\n      <td>Benign</td>\n      <td>-</td>\n    </tr>\n    <tr>\n      <th>2</th>\n      <td>1.545403e+09</td>\n      <td>Cxoiu11zgEdj4MX27</td>\n      <td>192.168.1.196</td>\n      <td>39189</td>\n      <td>192.168.1.1</td>\n      <td>53</td>\n      <td>udp</td>\n      <td>dns</td>\n      <td>5.005149</td>\n      <td>78</td>\n      <td>0</td>\n      <td>S0</td>\n      <td>-</td>\n      <td>-</td>\n      <td>0</td>\n      <td>D</td>\n      <td>2</td>\n      <td>134</td>\n      <td>0</td>\n      <td>0</td>\n      <td>-</td>\n      <td>Benign</td>\n      <td>-</td>\n    </tr>\n    <tr>\n      <th>3</th>\n      <td>1.545403e+09</td>\n      <td>ChlyUB4IKofHtlEFO1</td>\n      <td>192.168.1.196</td>\n      <td>123</td>\n      <td>89.221.210.188</td>\n      <td>123</td>\n      <td>udp</td>\n      <td>-</td>\n      <td>0.143648</td>\n      <td>48</td>\n      <td>48</td>\n      <td>SF</td>\n      <td>-</td>\n      <td>-</td>\n      <td>0</td>\n      <td>Dd</td>\n      <td>1</td>\n      <td>76</td>\n      <td>1</td>\n      <td>76</td>\n      <td>-</td>\n      <td>Benign</td>\n      <td>-</td>\n    </tr>\n    <tr>\n      <th>4</th>\n      <td>1.545403e+09</td>\n      <td>CgEG202REue0at76Je</td>\n      <td>192.168.1.196</td>\n      <td>123</td>\n      <td>31.31.74.35</td>\n      <td>123</td>\n      <td>udp</td>\n      <td>-</td>\n      <td>0.004481</td>\n      <td>48</td>\n      <td>48</td>\n      <td>SF</td>\n      <td>-</td>\n      <td>-</td>\n      <td>0</td>\n      <td>Dd</td>\n      <td>1</td>\n      <td>76</td>\n      <td>1</td>\n      <td>76</td>\n      <td>-</td>\n      <td>Benign</td>\n      <td>-</td>\n    </tr>\n    <tr>\n      <th>...</th>\n      <td>...</td>\n      <td>...</td>\n      <td>...</td>\n      <td>...</td>\n      <td>...</td>\n      <td>...</td>\n      <td>...</td>\n      <td>...</td>\n      <td>...</td>\n      <td>...</td>\n      <td>...</td>\n      <td>...</td>\n      <td>...</td>\n      <td>...</td>\n      <td>...</td>\n      <td>...</td>\n      <td>...</td>\n      <td>...</td>\n      <td>...</td>\n      <td>...</td>\n      <td>...</td>\n      <td>...</td>\n      <td>...</td>\n    </tr>\n    <tr>\n      <th>8262384</th>\n      <td>1.545489e+09</td>\n      <td>COBDPD3KxUR6kHRFd6</td>\n      <td>192.168.1.196</td>\n      <td>54034</td>\n      <td>243.173.162.237</td>\n      <td>23</td>\n      <td>tcp</td>\n      <td>-</td>\n      <td>-</td>\n      <td>-</td>\n      <td>-</td>\n      <td>S0</td>\n      <td>-</td>\n      <td>-</td>\n      <td>0</td>\n      <td>S</td>\n      <td>1</td>\n      <td>60</td>\n      <td>0</td>\n      <td>0</td>\n      <td>-</td>\n      <td>Benign</td>\n      <td>-</td>\n    </tr>\n    <tr>\n      <th>8262385</th>\n      <td>1.545489e+09</td>\n      <td>ClB8ai4Qrd9327GNH1</td>\n      <td>192.168.1.196</td>\n      <td>38638</td>\n      <td>115.129.182.143</td>\n      <td>23</td>\n      <td>tcp</td>\n      <td>-</td>\n      <td>144.578522</td>\n      <td>0</td>\n      <td>0</td>\n      <td>S2</td>\n      <td>-</td>\n      <td>-</td>\n      <td>0</td>\n      <td>ShAF</td>\n      <td>10</td>\n      <td>460</td>\n      <td>1</td>\n      <td>44</td>\n      <td>-</td>\n      <td>Benign</td>\n      <td>-</td>\n    </tr>\n    <tr>\n      <th>8262386</th>\n      <td>1.545487e+09</td>\n      <td>C7tILLtahZJ95prY2</td>\n      <td>192.168.1.196</td>\n      <td>41504</td>\n      <td>117.104.129.195</td>\n      <td>23</td>\n      <td>tcp</td>\n      <td>-</td>\n      <td>188.159685</td>\n      <td>0</td>\n      <td>0</td>\n      <td>S1</td>\n      <td>-</td>\n      <td>-</td>\n      <td>0</td>\n      <td>ShwA</td>\n      <td>5</td>\n      <td>220</td>\n      <td>1</td>\n      <td>44</td>\n      <td>-</td>\n      <td>Benign</td>\n      <td>-</td>\n    </tr>\n    <tr>\n      <th>8262387</th>\n      <td>1.545489e+09</td>\n      <td>CKyW4U3CKnNv9iyzV2</td>\n      <td>192.168.1.196</td>\n      <td>123</td>\n      <td>89.221.210.188</td>\n      <td>123</td>\n      <td>udp</td>\n      <td>-</td>\n      <td>-</td>\n      <td>-</td>\n      <td>-</td>\n      <td>S0</td>\n      <td>-</td>\n      <td>-</td>\n      <td>0</td>\n      <td>D</td>\n      <td>1</td>\n      <td>76</td>\n      <td>0</td>\n      <td>0</td>\n      <td>-</td>\n      <td>Benign</td>\n      <td>-</td>\n    </tr>\n    <tr>\n      <th>8262388</th>\n      <td>1.545489e+09</td>\n      <td>CX5bG81XCH2suiPkO7</td>\n      <td>200.170.187.33</td>\n      <td>3</td>\n      <td>192.168.1.196</td>\n      <td>1</td>\n      <td>icmp</td>\n      <td>-</td>\n      <td>-</td>\n      <td>-</td>\n      <td>-</td>\n      <td>OTH</td>\n      <td>-</td>\n      <td>-</td>\n      <td>0</td>\n      <td>-</td>\n      <td>1</td>\n      <td>88</td>\n      <td>0</td>\n      <td>0</td>\n      <td>-</td>\n      <td>Benign</td>\n      <td>-</td>\n    </tr>\n  </tbody>\n</table>\n<p>8262389 rows × 23 columns</p>\n</div>"
     },
     "execution_count": 4,
     "metadata": {},
     "output_type": "execute_result"
    }
   ],
   "source": [
    "df_ben = pd.read_csv(\"dataset/normal_dataset/Only_Benign.csv\",delimiter=\",\")\n",
    "df_ben"
   ]
  },
  {
   "cell_type": "code",
   "execution_count": 5,
   "metadata": {},
   "outputs": [
    {
     "name": "stdout",
     "output_type": "stream",
     "text": [
      "Shape benigns (8262389, 23)\n",
      "shape ddos (2185302, 23)\n"
     ]
    }
   ],
   "source": [
    "print(\"Shape benigns\",df_ben.shape)\n",
    "print(\"shape ddos\",df_ddos.shape)"
   ]
  },
  {
   "cell_type": "code",
   "execution_count": 6,
   "metadata": {},
   "outputs": [],
   "source": [
    "df_ben = df_ben.drop(['local_resp_bool', 'local_orig_bool','tunnel'], axis=1)\n",
    "df_ddos = df_ddos.drop(['local_resp_bool', 'local_orig_bool','tunnel'], axis=1)"
   ]
  },
  {
   "cell_type": "code",
   "execution_count": 7,
   "metadata": {},
   "outputs": [
    {
     "name": "stdout",
     "output_type": "stream",
     "text": [
      "Shape benigns (8262389, 20)\n",
      "shape ddos (2185302, 20)\n"
     ]
    }
   ],
   "source": [
    "print(\"Shape benigns\",df_ben.shape)\n",
    "print(\"shape ddos\",df_ddos.shape)"
   ]
  },
  {
   "cell_type": "code",
   "execution_count": 8,
   "metadata": {},
   "outputs": [],
   "source": [
    "# df_ben = df_ben[df_ben['proto_enum'].isin(['tcp', 'udp'])]\n",
    "#filtering df_ben so that it only contains tcp and udp protocols"
   ]
  },
  {
   "cell_type": "code",
   "execution_count": 9,
   "metadata": {},
   "outputs": [
    {
     "name": "stdout",
     "output_type": "stream",
     "text": [
      "Shape benigns (8262389, 20)\n",
      "shape ddos (2185302, 20)\n"
     ]
    }
   ],
   "source": [
    "print(\"Shape benigns\",df_ben.shape)\n",
    "print(\"shape ddos\",df_ddos.shape)"
   ]
  },
  {
   "cell_type": "code",
   "execution_count": 10,
   "metadata": {},
   "outputs": [],
   "source": [
    "# df_ben = df_ben[df_ben['service_string'].isin(['http','-'])]\n",
    "#filtering df_ben so that it only contains http, -"
   ]
  },
  {
   "cell_type": "code",
   "execution_count": 11,
   "metadata": {},
   "outputs": [
    {
     "name": "stdout",
     "output_type": "stream",
     "text": [
      "Shape benigns (8262389, 20)\n",
      "shape ddos (2185302, 20)\n"
     ]
    }
   ],
   "source": [
    "print(\"Shape benigns\",df_ben.shape)\n",
    "print(\"shape ddos\",df_ddos.shape)"
   ]
  },
  {
   "cell_type": "code",
   "execution_count": 12,
   "metadata": {},
   "outputs": [],
   "source": [
    "# df_ben = df_ben[df_ben['id.orig_addr'].isin(['192.168.1.196'])]\n",
    "# filtering df_ben so that it only contains 192.168.1.196"
   ]
  },
  {
   "cell_type": "code",
   "execution_count": 13,
   "metadata": {},
   "outputs": [
    {
     "name": "stdout",
     "output_type": "stream",
     "text": [
      "Shape benigns (8262389, 20)\n",
      "shape ddos (2185302, 20)\n"
     ]
    }
   ],
   "source": [
    "print(\"Shape benigns\",df_ben.shape)\n",
    "print(\"shape ddos\",df_ddos.shape)"
   ]
  },
  {
   "cell_type": "code",
   "execution_count": 14,
   "metadata": {},
   "outputs": [
    {
     "data": {
      "text/plain": "['ts_time',\n 'uid_string',\n 'id.orig_addr',\n 'id.orig_port',\n 'id.resp_haddr',\n 'id.resp_pport',\n 'proto_enum',\n 'service_string',\n 'duration_interval',\n 'orig_bytes_count',\n 'resp_bytes_count',\n 'conn_state_string',\n 'missed_bytes_count',\n 'history_string',\n 'orig_pkts_count',\n 'orig_ip_bytes_count',\n 'resp_pkts_count',\n 'resp_bytes',\n 'Category',\n 'Category-detail']"
     },
     "execution_count": 14,
     "metadata": {},
     "output_type": "execute_result"
    }
   ],
   "source": [
    "df_ben.columns.to_list()"
   ]
  },
  {
   "cell_type": "code",
   "execution_count": 15,
   "metadata": {},
   "outputs": [
    {
     "name": "stdout",
     "output_type": "stream",
     "text": [
      "8262389\n"
     ]
    }
   ],
   "source": [
    "empty_count = df_ben['Category-detail'].apply(lambda x: str(x).strip() == \"\" or str(x).strip() == \"-\").sum()\n",
    "print(empty_count)\n",
    "#Shape benigns (8262389, 23)\n",
    "#shape ddos (2185302, 23)\n"
   ]
  },
  {
   "cell_type": "code",
   "execution_count": 16,
   "metadata": {},
   "outputs": [],
   "source": [
    "# (df_ddos['duration_interval']== \"-\").sum()"
   ]
  },
  {
   "cell_type": "code",
   "execution_count": 17,
   "metadata": {},
   "outputs": [],
   "source": [
    "# df_ddos['duration_interval'].unique()\n",
    "#65536   4152264"
   ]
  },
  {
   "cell_type": "code",
   "execution_count": 18,
   "metadata": {},
   "outputs": [],
   "source": [
    "# df_ben['duration_interval'].unique()\n"
   ]
  },
  {
   "cell_type": "code",
   "execution_count": 19,
   "metadata": {},
   "outputs": [],
   "source": [
    "# df_ben[df_ben['id.resp_haddr'].isin(['209.97.190.136', '24.165.115.195', '173.113.172.138','54.39.87.104', '216.18.168.16'])]"
   ]
  },
  {
   "cell_type": "code",
   "execution_count": 20,
   "outputs": [],
   "source": [
    "import numpy as np\n",
    "\n",
    "# Clean the 'duration_interval' column\n",
    "def clean_and_convert(value):\n",
    "    # Check if the value is already numeric (float/int)\n",
    "    if isinstance(value, (float, int)):\n",
    "        return value\n",
    "\n",
    "    # If value is a string, proceed with cleaning\n",
    "    value = value.strip()  # Remove leading/trailing whitespace\n",
    "    if value.endswith('-'):\n",
    "        value = value[:-1]  # Remove trailing hyphen\n",
    "    if value == '--':  # Special case for double hyphen\n",
    "        return 0  # Convert to NaN\n",
    "    return pd.to_numeric(value, errors='coerce')  # Convert to numeric"
   ],
   "metadata": {
    "collapsed": false
   }
  },
  {
   "cell_type": "code",
   "execution_count": 21,
   "outputs": [
    {
     "data": {
      "text/plain": "             ts_time          uid_string  id.orig_addr  id.orig_port  \\\n0       1.545403e+09  CDn2pd1rDD1lCMXAia             0         35883   \n1       1.545403e+09  C1NKkV3tB4rImzbpDj             0         43531   \n2       1.545403e+09   Cxoiu11zgEdj4MX27             0         39189   \n3       1.545403e+09  ChlyUB4IKofHtlEFO1             0           123   \n4       1.545403e+09  CgEG202REue0at76Je             0           123   \n...              ...                 ...           ...           ...   \n199995  1.545452e+09  CrDuLG2vAuUhl9YSjl             0         54308   \n199996  1.545452e+09  Cr3fGj2zOE3HYZJo9j             0         58168   \n199997  1.545452e+09   CGeti4zVgJvzuz41l             0         62628   \n199998  1.545452e+09   CTL71oP1DY0QgsVO5             0         36897   \n199999  1.545452e+09  C16L4S3IjUYS7QXIy8             0         52091   \n\n        id.resp_haddr  id.resp_pport  proto_enum  service_string  \\\n0                   0             53           0               0   \n1                   0             53           0               0   \n2                   0             53           0               0   \n3                   1            123           0               1   \n4                   2            123           0               1   \n...               ...            ...         ...             ...   \n199995          49836             80           1               1   \n199996          49836             80           1               1   \n199997          49836             80           1               1   \n199998          49836             80           1               1   \n199999          49836             80           1               1   \n\n        duration_interval orig_bytes_count resp_bytes_count  \\\n0                       0               78                0   \n1                       1               78                0   \n2                       2               78                0   \n3                       3               48               48   \n4                       4               48               48   \n...                   ...              ...              ...   \n199995              96657                0                0   \n199996              96658                0                0   \n199997              96659                0                0   \n199998              96660                0                0   \n199999              96661                0                0   \n\n        conn_state_string  missed_bytes_count  history_string  \\\n0                       0                   0               0   \n1                       0                   0               0   \n2                       0                   0               0   \n3                       1                   0               1   \n4                       1                   0               1   \n...                   ...                 ...             ...   \n199995                  4                   0               7   \n199996                  4                   0               7   \n199997                  4                   0               7   \n199998                  4                   0               7   \n199999                  4                   0               7   \n\n        orig_pkts_count  orig_ip_bytes_count  resp_pkts_count  resp_bytes  \\\n0                     2                  134                0           0   \n1                     2                  134                0           0   \n2                     2                  134                0           0   \n3                     1                   76                1          76   \n4                     1                   76                1          76   \n...                 ...                  ...              ...         ...   \n199995                4                  160                0           0   \n199996                2                   80                0           0   \n199997                3                  120                0           0   \n199998                3                  120                0           0   \n199999                3                  120                0           0   \n\n       Category-detail  \n0                    -  \n1                    -  \n2                    -  \n3                    -  \n4                    -  \n...                ...  \n199995            DDoS  \n199996            DDoS  \n199997            DDoS  \n199998            DDoS  \n199999            DDoS  \n\n[200000 rows x 19 columns]",
      "text/html": "<div>\n<style scoped>\n    .dataframe tbody tr th:only-of-type {\n        vertical-align: middle;\n    }\n\n    .dataframe tbody tr th {\n        vertical-align: top;\n    }\n\n    .dataframe thead th {\n        text-align: right;\n    }\n</style>\n<table border=\"1\" class=\"dataframe\">\n  <thead>\n    <tr style=\"text-align: right;\">\n      <th></th>\n      <th>ts_time</th>\n      <th>uid_string</th>\n      <th>id.orig_addr</th>\n      <th>id.orig_port</th>\n      <th>id.resp_haddr</th>\n      <th>id.resp_pport</th>\n      <th>proto_enum</th>\n      <th>service_string</th>\n      <th>duration_interval</th>\n      <th>orig_bytes_count</th>\n      <th>resp_bytes_count</th>\n      <th>conn_state_string</th>\n      <th>missed_bytes_count</th>\n      <th>history_string</th>\n      <th>orig_pkts_count</th>\n      <th>orig_ip_bytes_count</th>\n      <th>resp_pkts_count</th>\n      <th>resp_bytes</th>\n      <th>Category-detail</th>\n    </tr>\n  </thead>\n  <tbody>\n    <tr>\n      <th>0</th>\n      <td>1.545403e+09</td>\n      <td>CDn2pd1rDD1lCMXAia</td>\n      <td>0</td>\n      <td>35883</td>\n      <td>0</td>\n      <td>53</td>\n      <td>0</td>\n      <td>0</td>\n      <td>0</td>\n      <td>78</td>\n      <td>0</td>\n      <td>0</td>\n      <td>0</td>\n      <td>0</td>\n      <td>2</td>\n      <td>134</td>\n      <td>0</td>\n      <td>0</td>\n      <td>-</td>\n    </tr>\n    <tr>\n      <th>1</th>\n      <td>1.545403e+09</td>\n      <td>C1NKkV3tB4rImzbpDj</td>\n      <td>0</td>\n      <td>43531</td>\n      <td>0</td>\n      <td>53</td>\n      <td>0</td>\n      <td>0</td>\n      <td>1</td>\n      <td>78</td>\n      <td>0</td>\n      <td>0</td>\n      <td>0</td>\n      <td>0</td>\n      <td>2</td>\n      <td>134</td>\n      <td>0</td>\n      <td>0</td>\n      <td>-</td>\n    </tr>\n    <tr>\n      <th>2</th>\n      <td>1.545403e+09</td>\n      <td>Cxoiu11zgEdj4MX27</td>\n      <td>0</td>\n      <td>39189</td>\n      <td>0</td>\n      <td>53</td>\n      <td>0</td>\n      <td>0</td>\n      <td>2</td>\n      <td>78</td>\n      <td>0</td>\n      <td>0</td>\n      <td>0</td>\n      <td>0</td>\n      <td>2</td>\n      <td>134</td>\n      <td>0</td>\n      <td>0</td>\n      <td>-</td>\n    </tr>\n    <tr>\n      <th>3</th>\n      <td>1.545403e+09</td>\n      <td>ChlyUB4IKofHtlEFO1</td>\n      <td>0</td>\n      <td>123</td>\n      <td>1</td>\n      <td>123</td>\n      <td>0</td>\n      <td>1</td>\n      <td>3</td>\n      <td>48</td>\n      <td>48</td>\n      <td>1</td>\n      <td>0</td>\n      <td>1</td>\n      <td>1</td>\n      <td>76</td>\n      <td>1</td>\n      <td>76</td>\n      <td>-</td>\n    </tr>\n    <tr>\n      <th>4</th>\n      <td>1.545403e+09</td>\n      <td>CgEG202REue0at76Je</td>\n      <td>0</td>\n      <td>123</td>\n      <td>2</td>\n      <td>123</td>\n      <td>0</td>\n      <td>1</td>\n      <td>4</td>\n      <td>48</td>\n      <td>48</td>\n      <td>1</td>\n      <td>0</td>\n      <td>1</td>\n      <td>1</td>\n      <td>76</td>\n      <td>1</td>\n      <td>76</td>\n      <td>-</td>\n    </tr>\n    <tr>\n      <th>...</th>\n      <td>...</td>\n      <td>...</td>\n      <td>...</td>\n      <td>...</td>\n      <td>...</td>\n      <td>...</td>\n      <td>...</td>\n      <td>...</td>\n      <td>...</td>\n      <td>...</td>\n      <td>...</td>\n      <td>...</td>\n      <td>...</td>\n      <td>...</td>\n      <td>...</td>\n      <td>...</td>\n      <td>...</td>\n      <td>...</td>\n      <td>...</td>\n    </tr>\n    <tr>\n      <th>199995</th>\n      <td>1.545452e+09</td>\n      <td>CrDuLG2vAuUhl9YSjl</td>\n      <td>0</td>\n      <td>54308</td>\n      <td>49836</td>\n      <td>80</td>\n      <td>1</td>\n      <td>1</td>\n      <td>96657</td>\n      <td>0</td>\n      <td>0</td>\n      <td>4</td>\n      <td>0</td>\n      <td>7</td>\n      <td>4</td>\n      <td>160</td>\n      <td>0</td>\n      <td>0</td>\n      <td>DDoS</td>\n    </tr>\n    <tr>\n      <th>199996</th>\n      <td>1.545452e+09</td>\n      <td>Cr3fGj2zOE3HYZJo9j</td>\n      <td>0</td>\n      <td>58168</td>\n      <td>49836</td>\n      <td>80</td>\n      <td>1</td>\n      <td>1</td>\n      <td>96658</td>\n      <td>0</td>\n      <td>0</td>\n      <td>4</td>\n      <td>0</td>\n      <td>7</td>\n      <td>2</td>\n      <td>80</td>\n      <td>0</td>\n      <td>0</td>\n      <td>DDoS</td>\n    </tr>\n    <tr>\n      <th>199997</th>\n      <td>1.545452e+09</td>\n      <td>CGeti4zVgJvzuz41l</td>\n      <td>0</td>\n      <td>62628</td>\n      <td>49836</td>\n      <td>80</td>\n      <td>1</td>\n      <td>1</td>\n      <td>96659</td>\n      <td>0</td>\n      <td>0</td>\n      <td>4</td>\n      <td>0</td>\n      <td>7</td>\n      <td>3</td>\n      <td>120</td>\n      <td>0</td>\n      <td>0</td>\n      <td>DDoS</td>\n    </tr>\n    <tr>\n      <th>199998</th>\n      <td>1.545452e+09</td>\n      <td>CTL71oP1DY0QgsVO5</td>\n      <td>0</td>\n      <td>36897</td>\n      <td>49836</td>\n      <td>80</td>\n      <td>1</td>\n      <td>1</td>\n      <td>96660</td>\n      <td>0</td>\n      <td>0</td>\n      <td>4</td>\n      <td>0</td>\n      <td>7</td>\n      <td>3</td>\n      <td>120</td>\n      <td>0</td>\n      <td>0</td>\n      <td>DDoS</td>\n    </tr>\n    <tr>\n      <th>199999</th>\n      <td>1.545452e+09</td>\n      <td>C16L4S3IjUYS7QXIy8</td>\n      <td>0</td>\n      <td>52091</td>\n      <td>49836</td>\n      <td>80</td>\n      <td>1</td>\n      <td>1</td>\n      <td>96661</td>\n      <td>0</td>\n      <td>0</td>\n      <td>4</td>\n      <td>0</td>\n      <td>7</td>\n      <td>3</td>\n      <td>120</td>\n      <td>0</td>\n      <td>0</td>\n      <td>DDoS</td>\n    </tr>\n  </tbody>\n</table>\n<p>200000 rows × 19 columns</p>\n</div>"
     },
     "execution_count": 21,
     "metadata": {},
     "output_type": "execute_result"
    }
   ],
   "source": [
    "# Remove any columns that deem necessary\n",
    "remove_cols = [\n",
    "    # 'ts_time',\n",
    "    # 'uid_string',\n",
    "    # 'Category-detail',\n",
    "    # 'orig_bytes_count',\n",
    "    # 'resp_bytes_count'\n",
    "]\n",
    "\n",
    "for col in remove_cols:\n",
    "    df_ben = df_ben.drop(columns=[col])\n",
    "    df_ddos = df_ddos.drop(columns=[col])\n",
    "\n",
    "\n",
    "X_ben = df_ben[:100000].drop(columns=['Category'])\n",
    "X_ddos = df_ddos[:100000].drop(columns=['Category'])\n",
    "\n",
    "X = pd.concat([X_ben, X_ddos], ignore_index=True)\n",
    "\n",
    "# Combining the target labels\n",
    "y_ben = df_ben[:100000]['Category']\n",
    "y_ddos = df_ddos[:100000]['Category']\n",
    "\n",
    "y = pd.concat([y_ben, y_ddos], ignore_index=True)\n",
    "y, _ = pd.factorize(y)\n",
    "\n",
    "# 5. Identify numerical and categorical columns\n",
    "numerical_cols = [\n",
    "    'id.orig_port', \n",
    "    'id.resp_pport',\n",
    "    'orig_bytes_count',\n",
    "    'resp_bytes_count', \n",
    "    'missed_bytes_count', \n",
    "    'orig_pkts_count', \n",
    "    'orig_ip_bytes_count', \n",
    "    'resp_pkts_count', \n",
    "    'resp_bytes',\n",
    "]\n",
    "\n",
    "categorical_cols = [\n",
    "    'proto_enum', \n",
    "    'service_string', \n",
    "    'conn_state_string',\n",
    "    'history_string',\n",
    "    'id.orig_addr',\n",
    "    'id.resp_haddr',\n",
    "    'duration_interval',\n",
    "]\n",
    "\n",
    "# for col in numerical_cols:\n",
    "#     X[col], _ = pd.to_numeric(col)\n",
    "# df_ben['duration_interval'] = df_ben['duration_interval'].apply(clean_and_convert)\n",
    "# df_ddos['duration_interval'] = df_ddos['duration_interval'].apply(clean_and_convert)\n",
    "\n",
    "for col in categorical_cols:\n",
    "    X[col], _ = pd.factorize(X[col])\n",
    "\n",
    "X"
   ],
   "metadata": {
    "collapsed": false
   }
  },
  {
   "cell_type": "code",
   "execution_count": 22,
   "outputs": [],
   "source": [
    "# Split data into training and testing sets\n",
    "X_train, X_test, y_train, y_test = train_test_split(X, y, test_size=0.3, random_state=42)"
   ],
   "metadata": {
    "collapsed": false
   }
  },
  {
   "cell_type": "code",
   "execution_count": 23,
   "outputs": [
    {
     "ename": "ValueError",
     "evalue": "\nAll the 5 fits failed.\nIt is very likely that your model is misconfigured.\nYou can try to debug the error by setting error_score='raise'.\n\nBelow are more details about the failures:\n--------------------------------------------------------------------------------\n4 fits failed with the following error:\nTraceback (most recent call last):\n  File \"/Users/panagiotis04/Documents/Master Cybersecurity/First Semester/Traffic Monitor Analysis/Test/lib/python3.10/site-packages/sklearn/model_selection/_validation.py\", line 732, in _fit_and_score\n    estimator.fit(X_train, y_train, **fit_params)\n  File \"/Users/panagiotis04/Documents/Master Cybersecurity/First Semester/Traffic Monitor Analysis/Test/lib/python3.10/site-packages/sklearn/base.py\", line 1151, in wrapper\n    return fit_method(estimator, *args, **kwargs)\n  File \"/Users/panagiotis04/Documents/Master Cybersecurity/First Semester/Traffic Monitor Analysis/Test/lib/python3.10/site-packages/sklearn/ensemble/_forest.py\", line 348, in fit\n    X, y = self._validate_data(\n  File \"/Users/panagiotis04/Documents/Master Cybersecurity/First Semester/Traffic Monitor Analysis/Test/lib/python3.10/site-packages/sklearn/base.py\", line 621, in _validate_data\n    X, y = check_X_y(X, y, **check_params)\n  File \"/Users/panagiotis04/Documents/Master Cybersecurity/First Semester/Traffic Monitor Analysis/Test/lib/python3.10/site-packages/sklearn/utils/validation.py\", line 1147, in check_X_y\n    X = check_array(\n  File \"/Users/panagiotis04/Documents/Master Cybersecurity/First Semester/Traffic Monitor Analysis/Test/lib/python3.10/site-packages/sklearn/utils/validation.py\", line 917, in check_array\n    array = _asarray_with_order(array, order=order, dtype=dtype, xp=xp)\n  File \"/Users/panagiotis04/Documents/Master Cybersecurity/First Semester/Traffic Monitor Analysis/Test/lib/python3.10/site-packages/sklearn/utils/_array_api.py\", line 380, in _asarray_with_order\n    array = numpy.asarray(array, order=order, dtype=dtype)\n  File \"/Users/panagiotis04/Documents/Master Cybersecurity/First Semester/Traffic Monitor Analysis/Test/lib/python3.10/site-packages/pandas/core/generic.py\", line 2153, in __array__\n    arr = np.asarray(values, dtype=dtype)\nValueError: could not convert string to float: 'CDn2pd1rDD1lCMXAia'\n\n--------------------------------------------------------------------------------\n1 fits failed with the following error:\nTraceback (most recent call last):\n  File \"/Users/panagiotis04/Documents/Master Cybersecurity/First Semester/Traffic Monitor Analysis/Test/lib/python3.10/site-packages/sklearn/model_selection/_validation.py\", line 732, in _fit_and_score\n    estimator.fit(X_train, y_train, **fit_params)\n  File \"/Users/panagiotis04/Documents/Master Cybersecurity/First Semester/Traffic Monitor Analysis/Test/lib/python3.10/site-packages/sklearn/base.py\", line 1151, in wrapper\n    return fit_method(estimator, *args, **kwargs)\n  File \"/Users/panagiotis04/Documents/Master Cybersecurity/First Semester/Traffic Monitor Analysis/Test/lib/python3.10/site-packages/sklearn/ensemble/_forest.py\", line 348, in fit\n    X, y = self._validate_data(\n  File \"/Users/panagiotis04/Documents/Master Cybersecurity/First Semester/Traffic Monitor Analysis/Test/lib/python3.10/site-packages/sklearn/base.py\", line 621, in _validate_data\n    X, y = check_X_y(X, y, **check_params)\n  File \"/Users/panagiotis04/Documents/Master Cybersecurity/First Semester/Traffic Monitor Analysis/Test/lib/python3.10/site-packages/sklearn/utils/validation.py\", line 1147, in check_X_y\n    X = check_array(\n  File \"/Users/panagiotis04/Documents/Master Cybersecurity/First Semester/Traffic Monitor Analysis/Test/lib/python3.10/site-packages/sklearn/utils/validation.py\", line 917, in check_array\n    array = _asarray_with_order(array, order=order, dtype=dtype, xp=xp)\n  File \"/Users/panagiotis04/Documents/Master Cybersecurity/First Semester/Traffic Monitor Analysis/Test/lib/python3.10/site-packages/sklearn/utils/_array_api.py\", line 380, in _asarray_with_order\n    array = numpy.asarray(array, order=order, dtype=dtype)\n  File \"/Users/panagiotis04/Documents/Master Cybersecurity/First Semester/Traffic Monitor Analysis/Test/lib/python3.10/site-packages/pandas/core/generic.py\", line 2153, in __array__\n    arr = np.asarray(values, dtype=dtype)\nValueError: could not convert string to float: 'C1NKkV3tB4rImzbpDj'\n",
     "output_type": "error",
     "traceback": [
      "\u001B[0;31m---------------------------------------------------------------------------\u001B[0m",
      "\u001B[0;31mValueError\u001B[0m                                Traceback (most recent call last)",
      "Cell \u001B[0;32mIn[23], line 10\u001B[0m\n\u001B[1;32m      7\u001B[0m cv \u001B[38;5;241m=\u001B[39m StratifiedKFold(n_splits\u001B[38;5;241m=\u001B[39m\u001B[38;5;241m5\u001B[39m, shuffle\u001B[38;5;241m=\u001B[39m\u001B[38;5;28;01mTrue\u001B[39;00m, random_state\u001B[38;5;241m=\u001B[39m\u001B[38;5;241m42\u001B[39m)\n\u001B[1;32m      9\u001B[0m \u001B[38;5;66;03m# Perform cross-validation\u001B[39;00m\n\u001B[0;32m---> 10\u001B[0m scores \u001B[38;5;241m=\u001B[39m \u001B[43mcross_val_score\u001B[49m\u001B[43m(\u001B[49m\u001B[43mrf_model\u001B[49m\u001B[43m,\u001B[49m\u001B[43m \u001B[49m\u001B[43mX\u001B[49m\u001B[43m,\u001B[49m\u001B[43m \u001B[49m\u001B[43my\u001B[49m\u001B[43m,\u001B[49m\u001B[43m \u001B[49m\u001B[43mcv\u001B[49m\u001B[38;5;241;43m=\u001B[39;49m\u001B[43mcv\u001B[49m\u001B[43m,\u001B[49m\u001B[43m \u001B[49m\u001B[43mscoring\u001B[49m\u001B[38;5;241;43m=\u001B[39;49m\u001B[38;5;124;43m'\u001B[39;49m\u001B[38;5;124;43maccuracy\u001B[39;49m\u001B[38;5;124;43m'\u001B[39;49m\u001B[43m)\u001B[49m\n\u001B[1;32m     12\u001B[0m \u001B[38;5;66;03m# Print cross-validated scores\u001B[39;00m\n\u001B[1;32m     13\u001B[0m \u001B[38;5;28mprint\u001B[39m(\u001B[38;5;124m\"\u001B[39m\u001B[38;5;124mCross-validated scores:\u001B[39m\u001B[38;5;124m\"\u001B[39m, scores)\n",
      "File \u001B[0;32m~/Documents/Master Cybersecurity/First Semester/Traffic Monitor Analysis/Test/lib/python3.10/site-packages/sklearn/model_selection/_validation.py:562\u001B[0m, in \u001B[0;36mcross_val_score\u001B[0;34m(estimator, X, y, groups, scoring, cv, n_jobs, verbose, fit_params, pre_dispatch, error_score)\u001B[0m\n\u001B[1;32m    559\u001B[0m \u001B[38;5;66;03m# To ensure multimetric format is not supported\u001B[39;00m\n\u001B[1;32m    560\u001B[0m scorer \u001B[38;5;241m=\u001B[39m check_scoring(estimator, scoring\u001B[38;5;241m=\u001B[39mscoring)\n\u001B[0;32m--> 562\u001B[0m cv_results \u001B[38;5;241m=\u001B[39m \u001B[43mcross_validate\u001B[49m\u001B[43m(\u001B[49m\n\u001B[1;32m    563\u001B[0m \u001B[43m    \u001B[49m\u001B[43mestimator\u001B[49m\u001B[38;5;241;43m=\u001B[39;49m\u001B[43mestimator\u001B[49m\u001B[43m,\u001B[49m\n\u001B[1;32m    564\u001B[0m \u001B[43m    \u001B[49m\u001B[43mX\u001B[49m\u001B[38;5;241;43m=\u001B[39;49m\u001B[43mX\u001B[49m\u001B[43m,\u001B[49m\n\u001B[1;32m    565\u001B[0m \u001B[43m    \u001B[49m\u001B[43my\u001B[49m\u001B[38;5;241;43m=\u001B[39;49m\u001B[43my\u001B[49m\u001B[43m,\u001B[49m\n\u001B[1;32m    566\u001B[0m \u001B[43m    \u001B[49m\u001B[43mgroups\u001B[49m\u001B[38;5;241;43m=\u001B[39;49m\u001B[43mgroups\u001B[49m\u001B[43m,\u001B[49m\n\u001B[1;32m    567\u001B[0m \u001B[43m    \u001B[49m\u001B[43mscoring\u001B[49m\u001B[38;5;241;43m=\u001B[39;49m\u001B[43m{\u001B[49m\u001B[38;5;124;43m\"\u001B[39;49m\u001B[38;5;124;43mscore\u001B[39;49m\u001B[38;5;124;43m\"\u001B[39;49m\u001B[43m:\u001B[49m\u001B[43m \u001B[49m\u001B[43mscorer\u001B[49m\u001B[43m}\u001B[49m\u001B[43m,\u001B[49m\n\u001B[1;32m    568\u001B[0m \u001B[43m    \u001B[49m\u001B[43mcv\u001B[49m\u001B[38;5;241;43m=\u001B[39;49m\u001B[43mcv\u001B[49m\u001B[43m,\u001B[49m\n\u001B[1;32m    569\u001B[0m \u001B[43m    \u001B[49m\u001B[43mn_jobs\u001B[49m\u001B[38;5;241;43m=\u001B[39;49m\u001B[43mn_jobs\u001B[49m\u001B[43m,\u001B[49m\n\u001B[1;32m    570\u001B[0m \u001B[43m    \u001B[49m\u001B[43mverbose\u001B[49m\u001B[38;5;241;43m=\u001B[39;49m\u001B[43mverbose\u001B[49m\u001B[43m,\u001B[49m\n\u001B[1;32m    571\u001B[0m \u001B[43m    \u001B[49m\u001B[43mfit_params\u001B[49m\u001B[38;5;241;43m=\u001B[39;49m\u001B[43mfit_params\u001B[49m\u001B[43m,\u001B[49m\n\u001B[1;32m    572\u001B[0m \u001B[43m    \u001B[49m\u001B[43mpre_dispatch\u001B[49m\u001B[38;5;241;43m=\u001B[39;49m\u001B[43mpre_dispatch\u001B[49m\u001B[43m,\u001B[49m\n\u001B[1;32m    573\u001B[0m \u001B[43m    \u001B[49m\u001B[43merror_score\u001B[49m\u001B[38;5;241;43m=\u001B[39;49m\u001B[43merror_score\u001B[49m\u001B[43m,\u001B[49m\n\u001B[1;32m    574\u001B[0m \u001B[43m\u001B[49m\u001B[43m)\u001B[49m\n\u001B[1;32m    575\u001B[0m \u001B[38;5;28;01mreturn\u001B[39;00m cv_results[\u001B[38;5;124m\"\u001B[39m\u001B[38;5;124mtest_score\u001B[39m\u001B[38;5;124m\"\u001B[39m]\n",
      "File \u001B[0;32m~/Documents/Master Cybersecurity/First Semester/Traffic Monitor Analysis/Test/lib/python3.10/site-packages/sklearn/utils/_param_validation.py:211\u001B[0m, in \u001B[0;36mvalidate_params.<locals>.decorator.<locals>.wrapper\u001B[0;34m(*args, **kwargs)\u001B[0m\n\u001B[1;32m    205\u001B[0m \u001B[38;5;28;01mtry\u001B[39;00m:\n\u001B[1;32m    206\u001B[0m     \u001B[38;5;28;01mwith\u001B[39;00m config_context(\n\u001B[1;32m    207\u001B[0m         skip_parameter_validation\u001B[38;5;241m=\u001B[39m(\n\u001B[1;32m    208\u001B[0m             prefer_skip_nested_validation \u001B[38;5;129;01mor\u001B[39;00m global_skip_validation\n\u001B[1;32m    209\u001B[0m         )\n\u001B[1;32m    210\u001B[0m     ):\n\u001B[0;32m--> 211\u001B[0m         \u001B[38;5;28;01mreturn\u001B[39;00m \u001B[43mfunc\u001B[49m\u001B[43m(\u001B[49m\u001B[38;5;241;43m*\u001B[39;49m\u001B[43margs\u001B[49m\u001B[43m,\u001B[49m\u001B[43m \u001B[49m\u001B[38;5;241;43m*\u001B[39;49m\u001B[38;5;241;43m*\u001B[39;49m\u001B[43mkwargs\u001B[49m\u001B[43m)\u001B[49m\n\u001B[1;32m    212\u001B[0m \u001B[38;5;28;01mexcept\u001B[39;00m InvalidParameterError \u001B[38;5;28;01mas\u001B[39;00m e:\n\u001B[1;32m    213\u001B[0m     \u001B[38;5;66;03m# When the function is just a wrapper around an estimator, we allow\u001B[39;00m\n\u001B[1;32m    214\u001B[0m     \u001B[38;5;66;03m# the function to delegate validation to the estimator, but we replace\u001B[39;00m\n\u001B[1;32m    215\u001B[0m     \u001B[38;5;66;03m# the name of the estimator by the name of the function in the error\u001B[39;00m\n\u001B[1;32m    216\u001B[0m     \u001B[38;5;66;03m# message to avoid confusion.\u001B[39;00m\n\u001B[1;32m    217\u001B[0m     msg \u001B[38;5;241m=\u001B[39m re\u001B[38;5;241m.\u001B[39msub(\n\u001B[1;32m    218\u001B[0m         \u001B[38;5;124mr\u001B[39m\u001B[38;5;124m\"\u001B[39m\u001B[38;5;124mparameter of \u001B[39m\u001B[38;5;124m\\\u001B[39m\u001B[38;5;124mw+ must be\u001B[39m\u001B[38;5;124m\"\u001B[39m,\n\u001B[1;32m    219\u001B[0m         \u001B[38;5;124mf\u001B[39m\u001B[38;5;124m\"\u001B[39m\u001B[38;5;124mparameter of \u001B[39m\u001B[38;5;132;01m{\u001B[39;00mfunc\u001B[38;5;241m.\u001B[39m\u001B[38;5;18m__qualname__\u001B[39m\u001B[38;5;132;01m}\u001B[39;00m\u001B[38;5;124m must be\u001B[39m\u001B[38;5;124m\"\u001B[39m,\n\u001B[1;32m    220\u001B[0m         \u001B[38;5;28mstr\u001B[39m(e),\n\u001B[1;32m    221\u001B[0m     )\n",
      "File \u001B[0;32m~/Documents/Master Cybersecurity/First Semester/Traffic Monitor Analysis/Test/lib/python3.10/site-packages/sklearn/model_selection/_validation.py:328\u001B[0m, in \u001B[0;36mcross_validate\u001B[0;34m(estimator, X, y, groups, scoring, cv, n_jobs, verbose, fit_params, pre_dispatch, return_train_score, return_estimator, return_indices, error_score)\u001B[0m\n\u001B[1;32m    308\u001B[0m parallel \u001B[38;5;241m=\u001B[39m Parallel(n_jobs\u001B[38;5;241m=\u001B[39mn_jobs, verbose\u001B[38;5;241m=\u001B[39mverbose, pre_dispatch\u001B[38;5;241m=\u001B[39mpre_dispatch)\n\u001B[1;32m    309\u001B[0m results \u001B[38;5;241m=\u001B[39m parallel(\n\u001B[1;32m    310\u001B[0m     delayed(_fit_and_score)(\n\u001B[1;32m    311\u001B[0m         clone(estimator),\n\u001B[0;32m   (...)\u001B[0m\n\u001B[1;32m    325\u001B[0m     \u001B[38;5;28;01mfor\u001B[39;00m train, test \u001B[38;5;129;01min\u001B[39;00m indices\n\u001B[1;32m    326\u001B[0m )\n\u001B[0;32m--> 328\u001B[0m \u001B[43m_warn_or_raise_about_fit_failures\u001B[49m\u001B[43m(\u001B[49m\u001B[43mresults\u001B[49m\u001B[43m,\u001B[49m\u001B[43m \u001B[49m\u001B[43merror_score\u001B[49m\u001B[43m)\u001B[49m\n\u001B[1;32m    330\u001B[0m \u001B[38;5;66;03m# For callable scoring, the return type is only know after calling. If the\u001B[39;00m\n\u001B[1;32m    331\u001B[0m \u001B[38;5;66;03m# return type is a dictionary, the error scores can now be inserted with\u001B[39;00m\n\u001B[1;32m    332\u001B[0m \u001B[38;5;66;03m# the correct key.\u001B[39;00m\n\u001B[1;32m    333\u001B[0m \u001B[38;5;28;01mif\u001B[39;00m \u001B[38;5;28mcallable\u001B[39m(scoring):\n",
      "File \u001B[0;32m~/Documents/Master Cybersecurity/First Semester/Traffic Monitor Analysis/Test/lib/python3.10/site-packages/sklearn/model_selection/_validation.py:414\u001B[0m, in \u001B[0;36m_warn_or_raise_about_fit_failures\u001B[0;34m(results, error_score)\u001B[0m\n\u001B[1;32m    407\u001B[0m \u001B[38;5;28;01mif\u001B[39;00m num_failed_fits \u001B[38;5;241m==\u001B[39m num_fits:\n\u001B[1;32m    408\u001B[0m     all_fits_failed_message \u001B[38;5;241m=\u001B[39m (\n\u001B[1;32m    409\u001B[0m         \u001B[38;5;124mf\u001B[39m\u001B[38;5;124m\"\u001B[39m\u001B[38;5;130;01m\\n\u001B[39;00m\u001B[38;5;124mAll the \u001B[39m\u001B[38;5;132;01m{\u001B[39;00mnum_fits\u001B[38;5;132;01m}\u001B[39;00m\u001B[38;5;124m fits failed.\u001B[39m\u001B[38;5;130;01m\\n\u001B[39;00m\u001B[38;5;124m\"\u001B[39m\n\u001B[1;32m    410\u001B[0m         \u001B[38;5;124m\"\u001B[39m\u001B[38;5;124mIt is very likely that your model is misconfigured.\u001B[39m\u001B[38;5;130;01m\\n\u001B[39;00m\u001B[38;5;124m\"\u001B[39m\n\u001B[1;32m    411\u001B[0m         \u001B[38;5;124m\"\u001B[39m\u001B[38;5;124mYou can try to debug the error by setting error_score=\u001B[39m\u001B[38;5;124m'\u001B[39m\u001B[38;5;124mraise\u001B[39m\u001B[38;5;124m'\u001B[39m\u001B[38;5;124m.\u001B[39m\u001B[38;5;130;01m\\n\u001B[39;00m\u001B[38;5;130;01m\\n\u001B[39;00m\u001B[38;5;124m\"\u001B[39m\n\u001B[1;32m    412\u001B[0m         \u001B[38;5;124mf\u001B[39m\u001B[38;5;124m\"\u001B[39m\u001B[38;5;124mBelow are more details about the failures:\u001B[39m\u001B[38;5;130;01m\\n\u001B[39;00m\u001B[38;5;132;01m{\u001B[39;00mfit_errors_summary\u001B[38;5;132;01m}\u001B[39;00m\u001B[38;5;124m\"\u001B[39m\n\u001B[1;32m    413\u001B[0m     )\n\u001B[0;32m--> 414\u001B[0m     \u001B[38;5;28;01mraise\u001B[39;00m \u001B[38;5;167;01mValueError\u001B[39;00m(all_fits_failed_message)\n\u001B[1;32m    416\u001B[0m \u001B[38;5;28;01melse\u001B[39;00m:\n\u001B[1;32m    417\u001B[0m     some_fits_failed_message \u001B[38;5;241m=\u001B[39m (\n\u001B[1;32m    418\u001B[0m         \u001B[38;5;124mf\u001B[39m\u001B[38;5;124m\"\u001B[39m\u001B[38;5;130;01m\\n\u001B[39;00m\u001B[38;5;132;01m{\u001B[39;00mnum_failed_fits\u001B[38;5;132;01m}\u001B[39;00m\u001B[38;5;124m fits failed out of a total of \u001B[39m\u001B[38;5;132;01m{\u001B[39;00mnum_fits\u001B[38;5;132;01m}\u001B[39;00m\u001B[38;5;124m.\u001B[39m\u001B[38;5;130;01m\\n\u001B[39;00m\u001B[38;5;124m\"\u001B[39m\n\u001B[1;32m    419\u001B[0m         \u001B[38;5;124m\"\u001B[39m\u001B[38;5;124mThe score on these train-test partitions for these parameters\u001B[39m\u001B[38;5;124m\"\u001B[39m\n\u001B[0;32m   (...)\u001B[0m\n\u001B[1;32m    423\u001B[0m         \u001B[38;5;124mf\u001B[39m\u001B[38;5;124m\"\u001B[39m\u001B[38;5;124mBelow are more details about the failures:\u001B[39m\u001B[38;5;130;01m\\n\u001B[39;00m\u001B[38;5;132;01m{\u001B[39;00mfit_errors_summary\u001B[38;5;132;01m}\u001B[39;00m\u001B[38;5;124m\"\u001B[39m\n\u001B[1;32m    424\u001B[0m     )\n",
      "\u001B[0;31mValueError\u001B[0m: \nAll the 5 fits failed.\nIt is very likely that your model is misconfigured.\nYou can try to debug the error by setting error_score='raise'.\n\nBelow are more details about the failures:\n--------------------------------------------------------------------------------\n4 fits failed with the following error:\nTraceback (most recent call last):\n  File \"/Users/panagiotis04/Documents/Master Cybersecurity/First Semester/Traffic Monitor Analysis/Test/lib/python3.10/site-packages/sklearn/model_selection/_validation.py\", line 732, in _fit_and_score\n    estimator.fit(X_train, y_train, **fit_params)\n  File \"/Users/panagiotis04/Documents/Master Cybersecurity/First Semester/Traffic Monitor Analysis/Test/lib/python3.10/site-packages/sklearn/base.py\", line 1151, in wrapper\n    return fit_method(estimator, *args, **kwargs)\n  File \"/Users/panagiotis04/Documents/Master Cybersecurity/First Semester/Traffic Monitor Analysis/Test/lib/python3.10/site-packages/sklearn/ensemble/_forest.py\", line 348, in fit\n    X, y = self._validate_data(\n  File \"/Users/panagiotis04/Documents/Master Cybersecurity/First Semester/Traffic Monitor Analysis/Test/lib/python3.10/site-packages/sklearn/base.py\", line 621, in _validate_data\n    X, y = check_X_y(X, y, **check_params)\n  File \"/Users/panagiotis04/Documents/Master Cybersecurity/First Semester/Traffic Monitor Analysis/Test/lib/python3.10/site-packages/sklearn/utils/validation.py\", line 1147, in check_X_y\n    X = check_array(\n  File \"/Users/panagiotis04/Documents/Master Cybersecurity/First Semester/Traffic Monitor Analysis/Test/lib/python3.10/site-packages/sklearn/utils/validation.py\", line 917, in check_array\n    array = _asarray_with_order(array, order=order, dtype=dtype, xp=xp)\n  File \"/Users/panagiotis04/Documents/Master Cybersecurity/First Semester/Traffic Monitor Analysis/Test/lib/python3.10/site-packages/sklearn/utils/_array_api.py\", line 380, in _asarray_with_order\n    array = numpy.asarray(array, order=order, dtype=dtype)\n  File \"/Users/panagiotis04/Documents/Master Cybersecurity/First Semester/Traffic Monitor Analysis/Test/lib/python3.10/site-packages/pandas/core/generic.py\", line 2153, in __array__\n    arr = np.asarray(values, dtype=dtype)\nValueError: could not convert string to float: 'CDn2pd1rDD1lCMXAia'\n\n--------------------------------------------------------------------------------\n1 fits failed with the following error:\nTraceback (most recent call last):\n  File \"/Users/panagiotis04/Documents/Master Cybersecurity/First Semester/Traffic Monitor Analysis/Test/lib/python3.10/site-packages/sklearn/model_selection/_validation.py\", line 732, in _fit_and_score\n    estimator.fit(X_train, y_train, **fit_params)\n  File \"/Users/panagiotis04/Documents/Master Cybersecurity/First Semester/Traffic Monitor Analysis/Test/lib/python3.10/site-packages/sklearn/base.py\", line 1151, in wrapper\n    return fit_method(estimator, *args, **kwargs)\n  File \"/Users/panagiotis04/Documents/Master Cybersecurity/First Semester/Traffic Monitor Analysis/Test/lib/python3.10/site-packages/sklearn/ensemble/_forest.py\", line 348, in fit\n    X, y = self._validate_data(\n  File \"/Users/panagiotis04/Documents/Master Cybersecurity/First Semester/Traffic Monitor Analysis/Test/lib/python3.10/site-packages/sklearn/base.py\", line 621, in _validate_data\n    X, y = check_X_y(X, y, **check_params)\n  File \"/Users/panagiotis04/Documents/Master Cybersecurity/First Semester/Traffic Monitor Analysis/Test/lib/python3.10/site-packages/sklearn/utils/validation.py\", line 1147, in check_X_y\n    X = check_array(\n  File \"/Users/panagiotis04/Documents/Master Cybersecurity/First Semester/Traffic Monitor Analysis/Test/lib/python3.10/site-packages/sklearn/utils/validation.py\", line 917, in check_array\n    array = _asarray_with_order(array, order=order, dtype=dtype, xp=xp)\n  File \"/Users/panagiotis04/Documents/Master Cybersecurity/First Semester/Traffic Monitor Analysis/Test/lib/python3.10/site-packages/sklearn/utils/_array_api.py\", line 380, in _asarray_with_order\n    array = numpy.asarray(array, order=order, dtype=dtype)\n  File \"/Users/panagiotis04/Documents/Master Cybersecurity/First Semester/Traffic Monitor Analysis/Test/lib/python3.10/site-packages/pandas/core/generic.py\", line 2153, in __array__\n    arr = np.asarray(values, dtype=dtype)\nValueError: could not convert string to float: 'C1NKkV3tB4rImzbpDj'\n"
     ]
    }
   ],
   "source": [
    "from sklearn.model_selection import StratifiedKFold, cross_val_score\n",
    "from sklearn.ensemble import RandomForestClassifier\n",
    "\n",
    "# Initialize the Random Forest Model\n",
    "rf_model = RandomForestClassifier(n_estimators=100, random_state=42)\n",
    "\n",
    "cv = StratifiedKFold(n_splits=5, shuffle=True, random_state=42)\n",
    "\n",
    "# Perform cross-validation\n",
    "scores = cross_val_score(rf_model, X, y, cv=cv, scoring='accuracy')\n",
    "\n",
    "# Print cross-validated scores\n",
    "print(\"Cross-validated scores:\", scores)\n",
    "print(\"Mean accuracy:\", scores.mean())\n",
    "print(\"Standard deviation of accuracy:\", scores.std())"
   ],
   "metadata": {
    "collapsed": false
   }
  },
  {
   "cell_type": "code",
   "execution_count": null,
   "outputs": [],
   "source": [],
   "metadata": {
    "collapsed": false
   }
  }
 ],
 "metadata": {
  "kernelspec": {
   "display_name": "Python 3",
   "language": "python",
   "name": "python3"
  },
  "language_info": {
   "codemirror_mode": {
    "name": "ipython",
    "version": 3
   },
   "file_extension": ".py",
   "mimetype": "text/x-python",
   "name": "python",
   "nbconvert_exporter": "python",
   "pygments_lexer": "ipython3",
   "version": "3.9.0"
  }
 },
 "nbformat": 4,
 "nbformat_minor": 2
}
