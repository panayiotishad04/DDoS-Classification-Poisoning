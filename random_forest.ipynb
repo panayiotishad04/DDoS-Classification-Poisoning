{
 "cells": [
  {
   "cell_type": "code",
   "execution_count": 1,
   "metadata": {
    "collapsed": true
   },
   "outputs": [
    {
     "data": {
      "text/plain": "         id.orig_addr  id.orig_port  id.resp_haddr  id.resp_pport  proto_enum  \\\n0          3232235972         48438     2300985238             23           1   \n1          3232235972         33878     1352962162             23           1   \n2          3232235972         55416     1539874379             23           1   \n3          3232235972         47778     2258007740             23           1   \n4          3232235972         46752     1732534418             23           1   \n...               ...           ...            ...            ...         ...   \n2314090    3232235971         59699     2734184663          62336           1   \n2314091    3232235971         32909     2734184663          62336           1   \n2314092    3232235971         25120     2734184663          62336           1   \n2314093    3232235971         30340     2734184663          62336           1   \n2314094    3232235971           678     2734184663          62336           1   \n\n         duration_interval  conn_state_string  orig_pkts_count  \\\n0                 5.030600                  4                1   \n1                 3.089012                  4                3   \n2                 3.089276                  4                3   \n3                 5.030600                  4                1   \n4                 3.130498                  4                3   \n...                    ...                ...              ...   \n2314090           5.030600                  0                0   \n2314091           5.030600                  0                0   \n2314092           5.030600                  0                0   \n2314093           5.030600                  0                0   \n2314094           5.030600                  0                0   \n\n         orig_ip_bytes_count  resp_pkts_count  resp_bytes  Category  \n0                         60                0           0         0  \n1                        180                0           0         0  \n2                        180                0           0         0  \n3                         60                0           0         0  \n4                        180                0           0         0  \n...                      ...              ...         ...       ...  \n2314090                    0                0           0         1  \n2314091                    0                0           0         1  \n2314092                    0                0           0         1  \n2314093                    0                0           0         1  \n2314094                    0                0           0         1  \n\n[2314095 rows x 12 columns]",
      "text/html": "<div>\n<style scoped>\n    .dataframe tbody tr th:only-of-type {\n        vertical-align: middle;\n    }\n\n    .dataframe tbody tr th {\n        vertical-align: top;\n    }\n\n    .dataframe thead th {\n        text-align: right;\n    }\n</style>\n<table border=\"1\" class=\"dataframe\">\n  <thead>\n    <tr style=\"text-align: right;\">\n      <th></th>\n      <th>id.orig_addr</th>\n      <th>id.orig_port</th>\n      <th>id.resp_haddr</th>\n      <th>id.resp_pport</th>\n      <th>proto_enum</th>\n      <th>duration_interval</th>\n      <th>conn_state_string</th>\n      <th>orig_pkts_count</th>\n      <th>orig_ip_bytes_count</th>\n      <th>resp_pkts_count</th>\n      <th>resp_bytes</th>\n      <th>Category</th>\n    </tr>\n  </thead>\n  <tbody>\n    <tr>\n      <th>0</th>\n      <td>3232235972</td>\n      <td>48438</td>\n      <td>2300985238</td>\n      <td>23</td>\n      <td>1</td>\n      <td>5.030600</td>\n      <td>4</td>\n      <td>1</td>\n      <td>60</td>\n      <td>0</td>\n      <td>0</td>\n      <td>0</td>\n    </tr>\n    <tr>\n      <th>1</th>\n      <td>3232235972</td>\n      <td>33878</td>\n      <td>1352962162</td>\n      <td>23</td>\n      <td>1</td>\n      <td>3.089012</td>\n      <td>4</td>\n      <td>3</td>\n      <td>180</td>\n      <td>0</td>\n      <td>0</td>\n      <td>0</td>\n    </tr>\n    <tr>\n      <th>2</th>\n      <td>3232235972</td>\n      <td>55416</td>\n      <td>1539874379</td>\n      <td>23</td>\n      <td>1</td>\n      <td>3.089276</td>\n      <td>4</td>\n      <td>3</td>\n      <td>180</td>\n      <td>0</td>\n      <td>0</td>\n      <td>0</td>\n    </tr>\n    <tr>\n      <th>3</th>\n      <td>3232235972</td>\n      <td>47778</td>\n      <td>2258007740</td>\n      <td>23</td>\n      <td>1</td>\n      <td>5.030600</td>\n      <td>4</td>\n      <td>1</td>\n      <td>60</td>\n      <td>0</td>\n      <td>0</td>\n      <td>0</td>\n    </tr>\n    <tr>\n      <th>4</th>\n      <td>3232235972</td>\n      <td>46752</td>\n      <td>1732534418</td>\n      <td>23</td>\n      <td>1</td>\n      <td>3.130498</td>\n      <td>4</td>\n      <td>3</td>\n      <td>180</td>\n      <td>0</td>\n      <td>0</td>\n      <td>0</td>\n    </tr>\n    <tr>\n      <th>...</th>\n      <td>...</td>\n      <td>...</td>\n      <td>...</td>\n      <td>...</td>\n      <td>...</td>\n      <td>...</td>\n      <td>...</td>\n      <td>...</td>\n      <td>...</td>\n      <td>...</td>\n      <td>...</td>\n      <td>...</td>\n    </tr>\n    <tr>\n      <th>2314090</th>\n      <td>3232235971</td>\n      <td>59699</td>\n      <td>2734184663</td>\n      <td>62336</td>\n      <td>1</td>\n      <td>5.030600</td>\n      <td>0</td>\n      <td>0</td>\n      <td>0</td>\n      <td>0</td>\n      <td>0</td>\n      <td>1</td>\n    </tr>\n    <tr>\n      <th>2314091</th>\n      <td>3232235971</td>\n      <td>32909</td>\n      <td>2734184663</td>\n      <td>62336</td>\n      <td>1</td>\n      <td>5.030600</td>\n      <td>0</td>\n      <td>0</td>\n      <td>0</td>\n      <td>0</td>\n      <td>0</td>\n      <td>1</td>\n    </tr>\n    <tr>\n      <th>2314092</th>\n      <td>3232235971</td>\n      <td>25120</td>\n      <td>2734184663</td>\n      <td>62336</td>\n      <td>1</td>\n      <td>5.030600</td>\n      <td>0</td>\n      <td>0</td>\n      <td>0</td>\n      <td>0</td>\n      <td>0</td>\n      <td>1</td>\n    </tr>\n    <tr>\n      <th>2314093</th>\n      <td>3232235971</td>\n      <td>30340</td>\n      <td>2734184663</td>\n      <td>62336</td>\n      <td>1</td>\n      <td>5.030600</td>\n      <td>0</td>\n      <td>0</td>\n      <td>0</td>\n      <td>0</td>\n      <td>0</td>\n      <td>1</td>\n    </tr>\n    <tr>\n      <th>2314094</th>\n      <td>3232235971</td>\n      <td>678</td>\n      <td>2734184663</td>\n      <td>62336</td>\n      <td>1</td>\n      <td>5.030600</td>\n      <td>0</td>\n      <td>0</td>\n      <td>0</td>\n      <td>0</td>\n      <td>0</td>\n      <td>1</td>\n    </tr>\n  </tbody>\n</table>\n<p>2314095 rows × 12 columns</p>\n</div>"
     },
     "execution_count": 1,
     "metadata": {},
     "output_type": "execute_result"
    }
   ],
   "source": [
    "import pandas as pd\n",
    "\n",
    "df_ben_ddos = pd.read_csv('df_ben_ddos.csv')\n",
    "df_ben_ddos\n",
    "\n"
   ]
  },
  {
   "cell_type": "code",
   "execution_count": 2,
   "outputs": [
    {
     "data": {
      "text/plain": "     id.orig_addr  id.orig_port  id.resp_haddr  id.resp_pport  proto_enum  \\\n0      3296074089          5151     2022758712             53           2   \n1      3296074089         61215      820700452             53           2   \n2      3296074089         60587     1658561341             53           2   \n3      3232235972         52092     2210836888             23           1   \n4      3296074089          5566     3818472118             53           2   \n..            ...           ...            ...            ...         ...   \n995    3232235972         56337      908547944            992           1   \n996    3232235972         38377      908547944            992           1   \n997    3232235972          9529     3512843912             22           1   \n998    3232235972         60214      908547944            992           1   \n999    3232235972         26645     3512843912             80           1   \n\n     duration_interval  conn_state_string  orig_pkts_count  \\\n0             5.030600                  4                1   \n1             5.030600                  4                1   \n2             5.030600                  4                1   \n3             3.119981                  4                3   \n4             5.030600                  4                1   \n..                 ...                ...              ...   \n995           4.894192                  3                5   \n996           2.417121                  3                5   \n997           5.030600                  0               56   \n998           3.827053                  3                3   \n999           4.018465                  3                6   \n\n     orig_ip_bytes_count  resp_pkts_count  resp_bytes  Category  \n0                    540                0           0         0  \n1                    540                0           0         0  \n2                    540                0           0         0  \n3                    180                0           0         0  \n4                    540                0           0         0  \n..                   ...              ...         ...       ...  \n995                  200                0           0         1  \n996                  200                0           0         1  \n997                 2800                0           0         1  \n998                  120                0           0         1  \n999                  240                0           0         1  \n\n[1000 rows x 12 columns]",
      "text/html": "<div>\n<style scoped>\n    .dataframe tbody tr th:only-of-type {\n        vertical-align: middle;\n    }\n\n    .dataframe tbody tr th {\n        vertical-align: top;\n    }\n\n    .dataframe thead th {\n        text-align: right;\n    }\n</style>\n<table border=\"1\" class=\"dataframe\">\n  <thead>\n    <tr style=\"text-align: right;\">\n      <th></th>\n      <th>id.orig_addr</th>\n      <th>id.orig_port</th>\n      <th>id.resp_haddr</th>\n      <th>id.resp_pport</th>\n      <th>proto_enum</th>\n      <th>duration_interval</th>\n      <th>conn_state_string</th>\n      <th>orig_pkts_count</th>\n      <th>orig_ip_bytes_count</th>\n      <th>resp_pkts_count</th>\n      <th>resp_bytes</th>\n      <th>Category</th>\n    </tr>\n  </thead>\n  <tbody>\n    <tr>\n      <th>0</th>\n      <td>3296074089</td>\n      <td>5151</td>\n      <td>2022758712</td>\n      <td>53</td>\n      <td>2</td>\n      <td>5.030600</td>\n      <td>4</td>\n      <td>1</td>\n      <td>540</td>\n      <td>0</td>\n      <td>0</td>\n      <td>0</td>\n    </tr>\n    <tr>\n      <th>1</th>\n      <td>3296074089</td>\n      <td>61215</td>\n      <td>820700452</td>\n      <td>53</td>\n      <td>2</td>\n      <td>5.030600</td>\n      <td>4</td>\n      <td>1</td>\n      <td>540</td>\n      <td>0</td>\n      <td>0</td>\n      <td>0</td>\n    </tr>\n    <tr>\n      <th>2</th>\n      <td>3296074089</td>\n      <td>60587</td>\n      <td>1658561341</td>\n      <td>53</td>\n      <td>2</td>\n      <td>5.030600</td>\n      <td>4</td>\n      <td>1</td>\n      <td>540</td>\n      <td>0</td>\n      <td>0</td>\n      <td>0</td>\n    </tr>\n    <tr>\n      <th>3</th>\n      <td>3232235972</td>\n      <td>52092</td>\n      <td>2210836888</td>\n      <td>23</td>\n      <td>1</td>\n      <td>3.119981</td>\n      <td>4</td>\n      <td>3</td>\n      <td>180</td>\n      <td>0</td>\n      <td>0</td>\n      <td>0</td>\n    </tr>\n    <tr>\n      <th>4</th>\n      <td>3296074089</td>\n      <td>5566</td>\n      <td>3818472118</td>\n      <td>53</td>\n      <td>2</td>\n      <td>5.030600</td>\n      <td>4</td>\n      <td>1</td>\n      <td>540</td>\n      <td>0</td>\n      <td>0</td>\n      <td>0</td>\n    </tr>\n    <tr>\n      <th>...</th>\n      <td>...</td>\n      <td>...</td>\n      <td>...</td>\n      <td>...</td>\n      <td>...</td>\n      <td>...</td>\n      <td>...</td>\n      <td>...</td>\n      <td>...</td>\n      <td>...</td>\n      <td>...</td>\n      <td>...</td>\n    </tr>\n    <tr>\n      <th>995</th>\n      <td>3232235972</td>\n      <td>56337</td>\n      <td>908547944</td>\n      <td>992</td>\n      <td>1</td>\n      <td>4.894192</td>\n      <td>3</td>\n      <td>5</td>\n      <td>200</td>\n      <td>0</td>\n      <td>0</td>\n      <td>1</td>\n    </tr>\n    <tr>\n      <th>996</th>\n      <td>3232235972</td>\n      <td>38377</td>\n      <td>908547944</td>\n      <td>992</td>\n      <td>1</td>\n      <td>2.417121</td>\n      <td>3</td>\n      <td>5</td>\n      <td>200</td>\n      <td>0</td>\n      <td>0</td>\n      <td>1</td>\n    </tr>\n    <tr>\n      <th>997</th>\n      <td>3232235972</td>\n      <td>9529</td>\n      <td>3512843912</td>\n      <td>22</td>\n      <td>1</td>\n      <td>5.030600</td>\n      <td>0</td>\n      <td>56</td>\n      <td>2800</td>\n      <td>0</td>\n      <td>0</td>\n      <td>1</td>\n    </tr>\n    <tr>\n      <th>998</th>\n      <td>3232235972</td>\n      <td>60214</td>\n      <td>908547944</td>\n      <td>992</td>\n      <td>1</td>\n      <td>3.827053</td>\n      <td>3</td>\n      <td>3</td>\n      <td>120</td>\n      <td>0</td>\n      <td>0</td>\n      <td>1</td>\n    </tr>\n    <tr>\n      <th>999</th>\n      <td>3232235972</td>\n      <td>26645</td>\n      <td>3512843912</td>\n      <td>80</td>\n      <td>1</td>\n      <td>4.018465</td>\n      <td>3</td>\n      <td>6</td>\n      <td>240</td>\n      <td>0</td>\n      <td>0</td>\n      <td>1</td>\n    </tr>\n  </tbody>\n</table>\n<p>1000 rows × 12 columns</p>\n</div>"
     },
     "execution_count": 2,
     "metadata": {},
     "output_type": "execute_result"
    }
   ],
   "source": [
    "df_first = df_ben_ddos[:70000].sample(n=500, random_state=42)\n",
    "df_last = df_ben_ddos[80000:].sample(n=500, random_state=42)\n",
    "df_sampled = pd.concat([df_first, df_last], ignore_index=True)\n",
    "df_sampled"
   ],
   "metadata": {
    "collapsed": false
   }
  },
  {
   "cell_type": "code",
   "execution_count": 3,
   "outputs": [
    {
     "data": {
      "text/plain": "     id.orig_port  id.resp_pport  proto_enum  duration_interval  \\\n0            5151             53           2           5.030600   \n1           61215             53           2           5.030600   \n2           60587             53           2           5.030600   \n3           52092             23           1           3.119981   \n4            5566             53           2           5.030600   \n..            ...            ...         ...                ...   \n995         56337            992           1           4.894192   \n996         38377            992           1           2.417121   \n997          9529             22           1           5.030600   \n998         60214            992           1           3.827053   \n999         26645             80           1           4.018465   \n\n     conn_state_string  orig_pkts_count  orig_ip_bytes_count  resp_pkts_count  \\\n0                    4                1                  540                0   \n1                    4                1                  540                0   \n2                    4                1                  540                0   \n3                    4                3                  180                0   \n4                    4                1                  540                0   \n..                 ...              ...                  ...              ...   \n995                  3                5                  200                0   \n996                  3                5                  200                0   \n997                  0               56                 2800                0   \n998                  3                3                  120                0   \n999                  3                6                  240                0   \n\n     resp_bytes  \n0             0  \n1             0  \n2             0  \n3             0  \n4             0  \n..          ...  \n995           0  \n996           0  \n997           0  \n998           0  \n999           0  \n\n[1000 rows x 9 columns]",
      "text/html": "<div>\n<style scoped>\n    .dataframe tbody tr th:only-of-type {\n        vertical-align: middle;\n    }\n\n    .dataframe tbody tr th {\n        vertical-align: top;\n    }\n\n    .dataframe thead th {\n        text-align: right;\n    }\n</style>\n<table border=\"1\" class=\"dataframe\">\n  <thead>\n    <tr style=\"text-align: right;\">\n      <th></th>\n      <th>id.orig_port</th>\n      <th>id.resp_pport</th>\n      <th>proto_enum</th>\n      <th>duration_interval</th>\n      <th>conn_state_string</th>\n      <th>orig_pkts_count</th>\n      <th>orig_ip_bytes_count</th>\n      <th>resp_pkts_count</th>\n      <th>resp_bytes</th>\n    </tr>\n  </thead>\n  <tbody>\n    <tr>\n      <th>0</th>\n      <td>5151</td>\n      <td>53</td>\n      <td>2</td>\n      <td>5.030600</td>\n      <td>4</td>\n      <td>1</td>\n      <td>540</td>\n      <td>0</td>\n      <td>0</td>\n    </tr>\n    <tr>\n      <th>1</th>\n      <td>61215</td>\n      <td>53</td>\n      <td>2</td>\n      <td>5.030600</td>\n      <td>4</td>\n      <td>1</td>\n      <td>540</td>\n      <td>0</td>\n      <td>0</td>\n    </tr>\n    <tr>\n      <th>2</th>\n      <td>60587</td>\n      <td>53</td>\n      <td>2</td>\n      <td>5.030600</td>\n      <td>4</td>\n      <td>1</td>\n      <td>540</td>\n      <td>0</td>\n      <td>0</td>\n    </tr>\n    <tr>\n      <th>3</th>\n      <td>52092</td>\n      <td>23</td>\n      <td>1</td>\n      <td>3.119981</td>\n      <td>4</td>\n      <td>3</td>\n      <td>180</td>\n      <td>0</td>\n      <td>0</td>\n    </tr>\n    <tr>\n      <th>4</th>\n      <td>5566</td>\n      <td>53</td>\n      <td>2</td>\n      <td>5.030600</td>\n      <td>4</td>\n      <td>1</td>\n      <td>540</td>\n      <td>0</td>\n      <td>0</td>\n    </tr>\n    <tr>\n      <th>...</th>\n      <td>...</td>\n      <td>...</td>\n      <td>...</td>\n      <td>...</td>\n      <td>...</td>\n      <td>...</td>\n      <td>...</td>\n      <td>...</td>\n      <td>...</td>\n    </tr>\n    <tr>\n      <th>995</th>\n      <td>56337</td>\n      <td>992</td>\n      <td>1</td>\n      <td>4.894192</td>\n      <td>3</td>\n      <td>5</td>\n      <td>200</td>\n      <td>0</td>\n      <td>0</td>\n    </tr>\n    <tr>\n      <th>996</th>\n      <td>38377</td>\n      <td>992</td>\n      <td>1</td>\n      <td>2.417121</td>\n      <td>3</td>\n      <td>5</td>\n      <td>200</td>\n      <td>0</td>\n      <td>0</td>\n    </tr>\n    <tr>\n      <th>997</th>\n      <td>9529</td>\n      <td>22</td>\n      <td>1</td>\n      <td>5.030600</td>\n      <td>0</td>\n      <td>56</td>\n      <td>2800</td>\n      <td>0</td>\n      <td>0</td>\n    </tr>\n    <tr>\n      <th>998</th>\n      <td>60214</td>\n      <td>992</td>\n      <td>1</td>\n      <td>3.827053</td>\n      <td>3</td>\n      <td>3</td>\n      <td>120</td>\n      <td>0</td>\n      <td>0</td>\n    </tr>\n    <tr>\n      <th>999</th>\n      <td>26645</td>\n      <td>80</td>\n      <td>1</td>\n      <td>4.018465</td>\n      <td>3</td>\n      <td>6</td>\n      <td>240</td>\n      <td>0</td>\n      <td>0</td>\n    </tr>\n  </tbody>\n</table>\n<p>1000 rows × 9 columns</p>\n</div>"
     },
     "execution_count": 3,
     "metadata": {},
     "output_type": "execute_result"
    }
   ],
   "source": [
    "# Separate features and target labels\n",
    "# X = df_sampled.drop(columns=['Category'])\n",
    "X = df_sampled.drop(columns=['Category', 'id.resp_haddr', 'id.orig_addr'])\n",
    "y = df_sampled['Category']\n",
    "X"
   ],
   "metadata": {
    "collapsed": false
   }
  },
  {
   "cell_type": "code",
   "execution_count": 4,
   "outputs": [
    {
     "name": "stdout",
     "output_type": "stream",
     "text": [
      "Best hyperparameters for this fold: {'max_depth': None, 'max_features': 'sqrt', 'min_samples_leaf': 1, 'min_samples_split': 2, 'n_estimators': 200}\n",
      "Accuracy for this fold: 0.998\n",
      "Best hyperparameters for this fold: {'max_depth': None, 'max_features': 'sqrt', 'min_samples_leaf': 1, 'min_samples_split': 2, 'n_estimators': 50}\n",
      "Accuracy for this fold: 1.0\n",
      "\n",
      "Cross-validated outer accuracy scores: [0.998, 1.0]\n",
      "Mean accuracy: 0.999\n",
      "Standard deviation of accuracy: 0.0010000000000000009\n",
      "[[2521392202 3110 152.668 69 4623]]\n"
     ]
    },
    {
     "ename": "ValueError",
     "evalue": "X has 5 features, but RandomForestClassifier is expecting 9 features as input.",
     "output_type": "error",
     "traceback": [
      "\u001B[0;31m---------------------------------------------------------------------------\u001B[0m",
      "\u001B[0;31mValueError\u001B[0m                                Traceback (most recent call last)",
      "Cell \u001B[0;32mIn[4], line 83\u001B[0m\n\u001B[1;32m     81\u001B[0m single_sample \u001B[38;5;241m=\u001B[39m real\u001B[38;5;241m.\u001B[39miloc[\u001B[38;5;241m0\u001B[39m]\u001B[38;5;241m.\u001B[39mvalues\u001B[38;5;241m.\u001B[39mreshape(\u001B[38;5;241m1\u001B[39m, \u001B[38;5;241m-\u001B[39m\u001B[38;5;241m1\u001B[39m)\n\u001B[1;32m     82\u001B[0m \u001B[38;5;28mprint\u001B[39m(single_sample)\n\u001B[0;32m---> 83\u001B[0m \u001B[43mbest_model\u001B[49m\u001B[38;5;241;43m.\u001B[39;49m\u001B[43mpredict\u001B[49m\u001B[43m(\u001B[49m\u001B[43msingle_sample\u001B[49m\u001B[43m)\u001B[49m\n",
      "File \u001B[0;32m~/Documents/Master Cybersecurity/First Semester/Traffic Monitor Analysis/Test/lib/python3.10/site-packages/sklearn/ensemble/_forest.py:832\u001B[0m, in \u001B[0;36mForestClassifier.predict\u001B[0;34m(self, X)\u001B[0m\n\u001B[1;32m    811\u001B[0m \u001B[38;5;28;01mdef\u001B[39;00m \u001B[38;5;21mpredict\u001B[39m(\u001B[38;5;28mself\u001B[39m, X):\n\u001B[1;32m    812\u001B[0m \u001B[38;5;250m    \u001B[39m\u001B[38;5;124;03m\"\"\"\u001B[39;00m\n\u001B[1;32m    813\u001B[0m \u001B[38;5;124;03m    Predict class for X.\u001B[39;00m\n\u001B[1;32m    814\u001B[0m \n\u001B[0;32m   (...)\u001B[0m\n\u001B[1;32m    830\u001B[0m \u001B[38;5;124;03m        The predicted classes.\u001B[39;00m\n\u001B[1;32m    831\u001B[0m \u001B[38;5;124;03m    \"\"\"\u001B[39;00m\n\u001B[0;32m--> 832\u001B[0m     proba \u001B[38;5;241m=\u001B[39m \u001B[38;5;28;43mself\u001B[39;49m\u001B[38;5;241;43m.\u001B[39;49m\u001B[43mpredict_proba\u001B[49m\u001B[43m(\u001B[49m\u001B[43mX\u001B[49m\u001B[43m)\u001B[49m\n\u001B[1;32m    834\u001B[0m     \u001B[38;5;28;01mif\u001B[39;00m \u001B[38;5;28mself\u001B[39m\u001B[38;5;241m.\u001B[39mn_outputs_ \u001B[38;5;241m==\u001B[39m \u001B[38;5;241m1\u001B[39m:\n\u001B[1;32m    835\u001B[0m         \u001B[38;5;28;01mreturn\u001B[39;00m \u001B[38;5;28mself\u001B[39m\u001B[38;5;241m.\u001B[39mclasses_\u001B[38;5;241m.\u001B[39mtake(np\u001B[38;5;241m.\u001B[39margmax(proba, axis\u001B[38;5;241m=\u001B[39m\u001B[38;5;241m1\u001B[39m), axis\u001B[38;5;241m=\u001B[39m\u001B[38;5;241m0\u001B[39m)\n",
      "File \u001B[0;32m~/Documents/Master Cybersecurity/First Semester/Traffic Monitor Analysis/Test/lib/python3.10/site-packages/sklearn/ensemble/_forest.py:874\u001B[0m, in \u001B[0;36mForestClassifier.predict_proba\u001B[0;34m(self, X)\u001B[0m\n\u001B[1;32m    872\u001B[0m check_is_fitted(\u001B[38;5;28mself\u001B[39m)\n\u001B[1;32m    873\u001B[0m \u001B[38;5;66;03m# Check data\u001B[39;00m\n\u001B[0;32m--> 874\u001B[0m X \u001B[38;5;241m=\u001B[39m \u001B[38;5;28;43mself\u001B[39;49m\u001B[38;5;241;43m.\u001B[39;49m\u001B[43m_validate_X_predict\u001B[49m\u001B[43m(\u001B[49m\u001B[43mX\u001B[49m\u001B[43m)\u001B[49m\n\u001B[1;32m    876\u001B[0m \u001B[38;5;66;03m# Assign chunk of trees to jobs\u001B[39;00m\n\u001B[1;32m    877\u001B[0m n_jobs, _, _ \u001B[38;5;241m=\u001B[39m _partition_estimators(\u001B[38;5;28mself\u001B[39m\u001B[38;5;241m.\u001B[39mn_estimators, \u001B[38;5;28mself\u001B[39m\u001B[38;5;241m.\u001B[39mn_jobs)\n",
      "File \u001B[0;32m~/Documents/Master Cybersecurity/First Semester/Traffic Monitor Analysis/Test/lib/python3.10/site-packages/sklearn/ensemble/_forest.py:605\u001B[0m, in \u001B[0;36mBaseForest._validate_X_predict\u001B[0;34m(self, X)\u001B[0m\n\u001B[1;32m    602\u001B[0m \u001B[38;5;250m\u001B[39m\u001B[38;5;124;03m\"\"\"\u001B[39;00m\n\u001B[1;32m    603\u001B[0m \u001B[38;5;124;03mValidate X whenever one tries to predict, apply, predict_proba.\"\"\"\u001B[39;00m\n\u001B[1;32m    604\u001B[0m check_is_fitted(\u001B[38;5;28mself\u001B[39m)\n\u001B[0;32m--> 605\u001B[0m X \u001B[38;5;241m=\u001B[39m \u001B[38;5;28;43mself\u001B[39;49m\u001B[38;5;241;43m.\u001B[39;49m\u001B[43m_validate_data\u001B[49m\u001B[43m(\u001B[49m\u001B[43mX\u001B[49m\u001B[43m,\u001B[49m\u001B[43m \u001B[49m\u001B[43mdtype\u001B[49m\u001B[38;5;241;43m=\u001B[39;49m\u001B[43mDTYPE\u001B[49m\u001B[43m,\u001B[49m\u001B[43m \u001B[49m\u001B[43maccept_sparse\u001B[49m\u001B[38;5;241;43m=\u001B[39;49m\u001B[38;5;124;43m\"\u001B[39;49m\u001B[38;5;124;43mcsr\u001B[39;49m\u001B[38;5;124;43m\"\u001B[39;49m\u001B[43m,\u001B[49m\u001B[43m \u001B[49m\u001B[43mreset\u001B[49m\u001B[38;5;241;43m=\u001B[39;49m\u001B[38;5;28;43;01mFalse\u001B[39;49;00m\u001B[43m)\u001B[49m\n\u001B[1;32m    606\u001B[0m \u001B[38;5;28;01mif\u001B[39;00m issparse(X) \u001B[38;5;129;01mand\u001B[39;00m (X\u001B[38;5;241m.\u001B[39mindices\u001B[38;5;241m.\u001B[39mdtype \u001B[38;5;241m!=\u001B[39m np\u001B[38;5;241m.\u001B[39mintc \u001B[38;5;129;01mor\u001B[39;00m X\u001B[38;5;241m.\u001B[39mindptr\u001B[38;5;241m.\u001B[39mdtype \u001B[38;5;241m!=\u001B[39m np\u001B[38;5;241m.\u001B[39mintc):\n\u001B[1;32m    607\u001B[0m     \u001B[38;5;28;01mraise\u001B[39;00m \u001B[38;5;167;01mValueError\u001B[39;00m(\u001B[38;5;124m\"\u001B[39m\u001B[38;5;124mNo support for np.int64 index based sparse matrices\u001B[39m\u001B[38;5;124m\"\u001B[39m)\n",
      "File \u001B[0;32m~/Documents/Master Cybersecurity/First Semester/Traffic Monitor Analysis/Test/lib/python3.10/site-packages/sklearn/base.py:600\u001B[0m, in \u001B[0;36mBaseEstimator._validate_data\u001B[0;34m(self, X, y, reset, validate_separately, **check_params)\u001B[0m\n\u001B[1;32m    597\u001B[0m     out \u001B[38;5;241m=\u001B[39m X, y\n\u001B[1;32m    599\u001B[0m \u001B[38;5;28;01mif\u001B[39;00m \u001B[38;5;129;01mnot\u001B[39;00m no_val_X \u001B[38;5;129;01mand\u001B[39;00m check_params\u001B[38;5;241m.\u001B[39mget(\u001B[38;5;124m\"\u001B[39m\u001B[38;5;124mensure_2d\u001B[39m\u001B[38;5;124m\"\u001B[39m, \u001B[38;5;28;01mTrue\u001B[39;00m):\n\u001B[0;32m--> 600\u001B[0m     \u001B[38;5;28;43mself\u001B[39;49m\u001B[38;5;241;43m.\u001B[39;49m\u001B[43m_check_n_features\u001B[49m\u001B[43m(\u001B[49m\u001B[43mX\u001B[49m\u001B[43m,\u001B[49m\u001B[43m \u001B[49m\u001B[43mreset\u001B[49m\u001B[38;5;241;43m=\u001B[39;49m\u001B[43mreset\u001B[49m\u001B[43m)\u001B[49m\n\u001B[1;32m    602\u001B[0m \u001B[38;5;28;01mreturn\u001B[39;00m out\n",
      "File \u001B[0;32m~/Documents/Master Cybersecurity/First Semester/Traffic Monitor Analysis/Test/lib/python3.10/site-packages/sklearn/base.py:400\u001B[0m, in \u001B[0;36mBaseEstimator._check_n_features\u001B[0;34m(self, X, reset)\u001B[0m\n\u001B[1;32m    397\u001B[0m     \u001B[38;5;28;01mreturn\u001B[39;00m\n\u001B[1;32m    399\u001B[0m \u001B[38;5;28;01mif\u001B[39;00m n_features \u001B[38;5;241m!=\u001B[39m \u001B[38;5;28mself\u001B[39m\u001B[38;5;241m.\u001B[39mn_features_in_:\n\u001B[0;32m--> 400\u001B[0m     \u001B[38;5;28;01mraise\u001B[39;00m \u001B[38;5;167;01mValueError\u001B[39;00m(\n\u001B[1;32m    401\u001B[0m         \u001B[38;5;124mf\u001B[39m\u001B[38;5;124m\"\u001B[39m\u001B[38;5;124mX has \u001B[39m\u001B[38;5;132;01m{\u001B[39;00mn_features\u001B[38;5;132;01m}\u001B[39;00m\u001B[38;5;124m features, but \u001B[39m\u001B[38;5;132;01m{\u001B[39;00m\u001B[38;5;28mself\u001B[39m\u001B[38;5;241m.\u001B[39m\u001B[38;5;18m__class__\u001B[39m\u001B[38;5;241m.\u001B[39m\u001B[38;5;18m__name__\u001B[39m\u001B[38;5;132;01m}\u001B[39;00m\u001B[38;5;124m \u001B[39m\u001B[38;5;124m\"\u001B[39m\n\u001B[1;32m    402\u001B[0m         \u001B[38;5;124mf\u001B[39m\u001B[38;5;124m\"\u001B[39m\u001B[38;5;124mis expecting \u001B[39m\u001B[38;5;132;01m{\u001B[39;00m\u001B[38;5;28mself\u001B[39m\u001B[38;5;241m.\u001B[39mn_features_in_\u001B[38;5;132;01m}\u001B[39;00m\u001B[38;5;124m features as input.\u001B[39m\u001B[38;5;124m\"\u001B[39m\n\u001B[1;32m    403\u001B[0m     )\n",
      "\u001B[0;31mValueError\u001B[0m: X has 5 features, but RandomForestClassifier is expecting 9 features as input."
     ]
    }
   ],
   "source": [
    "from sklearn.model_selection import StratifiedKFold, cross_val_score, GridSearchCV\n",
    "from sklearn.ensemble import RandomForestClassifier\n",
    "from sklearn.metrics import accuracy_score\n",
    "import numpy as np\n",
    "import pandas as pd\n",
    "import matplotlib.pyplot as plt\n",
    "import ipaddress\n",
    "\n",
    "# Assuming you have X (features) and y (target) already defined\n",
    "# Example of X and y for illustration (replace with your actual dataset)\n",
    "# X = pd.DataFrame(...)  # your feature DataFrame\n",
    "# y = pd.Series(...)  # your target Series\n",
    "\n",
    "# Initialize the outer cross-validation\n",
    "outer_cv = StratifiedKFold(n_splits=2, shuffle=True, random_state=42)\n",
    "\n",
    "# Define parameter grid for Random Forest hyperparameter tuning\n",
    "param_grid = {\n",
    "    'n_estimators': [50, 100, 200],\n",
    "    'max_depth': [None, 10, 20, 30],\n",
    "    'min_samples_split': [2, 5, 10],\n",
    "    'min_samples_leaf': [1, 2, 4],\n",
    "    'max_features': ['sqrt', 'log2']\n",
    "}\n",
    "\n",
    "# List to hold the accuracy scores from the outer CV loop\n",
    "outer_scores = []\n",
    "best_model = None\n",
    "\n",
    "# Outer cross-validation loop\n",
    "for train_idx, test_idx in outer_cv.split(X, y):\n",
    "    X_train, X_test = X.values[train_idx], X.values[test_idx]\n",
    "    y_train, y_test = y[train_idx], y[test_idx]\n",
    "\n",
    "    # Define inner cross-validation for hyperparameter tuning\n",
    "    inner_cv = StratifiedKFold(n_splits=2, shuffle=True, random_state=42)\n",
    "\n",
    "    # Initialize Random Forest model\n",
    "    rf_model = RandomForestClassifier(random_state=42)\n",
    "\n",
    "    # GridSearchCV for hyperparameter tuning within the inner CV loop\n",
    "    grid_search = GridSearchCV(\n",
    "        estimator=rf_model,\n",
    "        param_grid=param_grid,\n",
    "        cv=inner_cv,\n",
    "        scoring='accuracy',\n",
    "        n_jobs=-1\n",
    "    )\n",
    "\n",
    "    # Fit GridSearchCV on the training data of the current outer fold\n",
    "    grid_search.fit(X_train, y_train)\n",
    "\n",
    "    # Select the best model from the inner CV tuning\n",
    "    best_model = grid_search.best_estimator_\n",
    "\n",
    "    # Evaluate the best model on the outer fold test set\n",
    "    y_pred = best_model.predict(X_test)\n",
    "    outer_accuracy = accuracy_score(y_test, y_pred)\n",
    "    outer_scores.append(outer_accuracy)\n",
    "\n",
    "\n",
    "    print(f\"Best hyperparameters for this fold: {grid_search.best_params_}\")\n",
    "    print(f\"Accuracy for this fold: {outer_accuracy}\")\n",
    "\n",
    "# Calculate and print the final results from the outer cross-validation loop\n",
    "print(\"\\nCross-validated outer accuracy scores:\", outer_scores)\n",
    "print(\"Mean accuracy:\", np.mean(outer_scores))\n",
    "print(\"Standard deviation of accuracy:\", np.std(outer_scores))\n",
    "\n",
    "\n",
    "# Train the model on the entire dataset\n",
    "# best_model.fit(X, y)\n",
    "\n",
    "csv_file = \"flow.csv\"\n",
    "data = pd.read_csv(csv_file)\n",
    "data\n",
    "\n",
    "selected_features = ['sa', 'sp', 'td', 'ipkt', 'ibyt']\n",
    "real = data[selected_features]\n",
    "real.loc[:, 'sa'] = real['sa'].map(lambda ip: int(ipaddress.IPv4Address(ip)))\n",
    "single_sample = real.iloc[0].values.reshape(1, -1)\n",
    "print(single_sample)\n",
    "best_model.predict(single_sample)\n"
   ],
   "metadata": {
    "collapsed": false
   }
  },
  {
   "cell_type": "code",
   "execution_count": null,
   "outputs": [],
   "source": [
    "# After the outer CV loop, get the feature importance of the best model\n",
    "importances = best_model.feature_importances_\n",
    "\n",
    "# Create a DataFrame for easy plotting\n",
    "feature_importances = pd.DataFrame({\n",
    "    'feature': X.columns,  # assuming X is a DataFrame\n",
    "    'importance': importances\n",
    "})\n",
    "\n",
    "# Sort the DataFrame by importance\n",
    "feature_importances = feature_importances.sort_values(by='importance', ascending=False)\n",
    "\n",
    "for i in range(len(feature_importances['feature'])):\n",
    "    print(feature_importances['feature'][i], feature_importances['importance'][i])\n",
    "\n",
    "# Plotting the feature importances\n",
    "plt.figure(figsize=(10, 6))\n",
    "plt.barh(feature_importances['feature'], feature_importances['importance'], color='skyblue')\n",
    "plt.xlabel('Importance')\n",
    "plt.ylabel('Feature')\n",
    "plt.title('Feature Importance in Random Forest (Best Model)')\n",
    "plt.show()"
   ],
   "metadata": {
    "collapsed": false
   }
  },
  {
   "cell_type": "code",
   "execution_count": 5,
   "outputs": [
    {
     "name": "stderr",
     "output_type": "stream",
     "text": [
      "/Users/panagiotis04/Documents/Master Cybersecurity/First Semester/Traffic Monitor Analysis/Test/lib/python3.10/site-packages/sklearn/base.py:443: UserWarning: X has feature names, but RandomForestClassifier was fitted without feature names\n",
      "  warnings.warn(\n"
     ]
    },
    {
     "data": {
      "text/plain": "array([1, 1, 1, 1, 1, 1, 1, 1, 1, 1, 1, 1, 1, 1, 1, 1, 1, 1, 1, 1, 1, 1,\n       1, 1, 1, 1, 1, 1, 1, 1, 1, 1, 1, 1, 1, 1, 1, 1, 1, 1, 1, 1, 1, 1,\n       1, 1, 1, 1, 1, 1, 1, 1, 1, 1, 1, 1, 1, 1, 1, 1, 1, 1, 1, 1, 1, 1,\n       1, 1, 1, 1, 1, 1, 1, 1, 1, 1, 1, 1, 1, 1, 1, 1, 1, 1, 1, 1, 1, 1,\n       1, 1, 1, 1, 1, 1, 1])"
     },
     "execution_count": 5,
     "metadata": {},
     "output_type": "execute_result"
    }
   ],
   "source": [
    "import pandas as pd\n",
    "\n",
    "# Load the CSV file\n",
    "csv_file = \"netflow_data.csv\"\n",
    "data = pd.read_csv(csv_file)  # Skip the first row if it contains metadata\n",
    "data\n",
    "# ['id.orig_addr','id.orig_port','id.resp_haddr','id.resp_pport','proto_enum','duration_interval','conn_state_string','orig_pkts_count','orig_ip_bytes_count','resp_pkts_count','resp_bytes', 'Category']\n",
    "filtered_flows = data[data['da'] == '172.20.10.2']\n",
    "selected_features = ['sp', 'dp', 'pr', 'td', 'flg', 'ibyt', 'ipkt', 'opkt', 'obyt']\n",
    "filtered_flows = filtered_flows[selected_features]\n",
    "filtered_flows['flg'] = filtered_flows['flg'].map(lambda flg: 4 if flg == '......S.' else flg)\n",
    "filtered_flows['flg'] = filtered_flows['flg'].map(lambda flg: 4 if flg == '........' else flg)\n",
    "filtered_flows['pr'] = filtered_flows['pr'].map(lambda pr: 1 if pr == 'TCP' else pr)\n",
    "filtered_flows['pr'] = filtered_flows['pr'].map(lambda pr: 2 if pr == 'UDP' else pr)\n",
    "filtered_flows = filtered_flows.rename(columns={\n",
    "    'sp': 'id.orig_port',\n",
    "    'dp': 'id.resp_pport',\n",
    "    'pr': 'proto_enum',\n",
    "    'td': 'duration_interval',\n",
    "    'flg': 'conn_state_string',\n",
    "    'ibyt': 'orig_pkts_count',\n",
    "    'ipkt': 'orig_ip_bytes_count',\n",
    "    'opkt': 'resp_pkts_count',\n",
    "    'obyt': 'resp_bytes'\n",
    "})\n",
    "for col in filtered_flows.columns:\n",
    "    if filtered_flows[col].dtype == 'object':  # Check if the column contains strings\n",
    "        filtered_flows[col] = filtered_flows[col].astype(float)  # Convert to float first\n",
    "\n",
    "# Now convert all numeric columns to integers\n",
    "filtered_flows = filtered_flows.astype(int)\n",
    "\n",
    "best_model.predict(filtered_flows)\n",
    "# filtered_flows"
   ],
   "metadata": {
    "collapsed": false
   }
  },
  {
   "cell_type": "code",
   "execution_count": 6,
   "outputs": [],
   "source": [
    "import pickle\n",
    "\n",
    "with open('random_forest_model.pkl', 'wb') as file:\n",
    "    pickle.dump(best_model, file)"
   ],
   "metadata": {
    "collapsed": false
   }
  },
  {
   "cell_type": "code",
   "execution_count": null,
   "outputs": [],
   "source": [],
   "metadata": {
    "collapsed": false
   }
  }
 ],
 "metadata": {
  "kernelspec": {
   "display_name": "Python 3",
   "language": "python",
   "name": "python3"
  },
  "language_info": {
   "codemirror_mode": {
    "name": "ipython",
    "version": 2
   },
   "file_extension": ".py",
   "mimetype": "text/x-python",
   "name": "python",
   "nbconvert_exporter": "python",
   "pygments_lexer": "ipython2",
   "version": "2.7.6"
  }
 },
 "nbformat": 4,
 "nbformat_minor": 0
}
